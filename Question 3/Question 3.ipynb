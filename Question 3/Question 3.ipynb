{
 "cells": [
  {
   "cell_type": "markdown",
   "id": "da77525f",
   "metadata": {},
   "source": [
    "# Question 3"
   ]
  },
  {
   "cell_type": "markdown",
   "id": "d2d3ffb0",
   "metadata": {},
   "source": [
    "### Conduct exploratory data analysis to identify crucial features that will be utilized in the model."
   ]
  },
  {
   "cell_type": "code",
   "execution_count": 1,
   "id": "17f0d2d3",
   "metadata": {},
   "outputs": [],
   "source": [
    "import pandas as pd"
   ]
  },
  {
   "cell_type": "code",
   "execution_count": 2,
   "id": "c599cf6a",
   "metadata": {},
   "outputs": [
    {
     "name": "stderr",
     "output_type": "stream",
     "text": [
      "C:\\Users\\Sanjana\\AppData\\Local\\Temp\\ipykernel_43704\\52197313.py:1: DtypeWarning: Columns (11) have mixed types. Specify dtype option on import or set low_memory=False.\n",
      "  df = pd.read_csv('autos.csv')\n"
     ]
    }
   ],
   "source": [
    "df = pd.read_csv('autos.csv')"
   ]
  },
  {
   "cell_type": "markdown",
   "id": "3c06370d",
   "metadata": {},
   "source": [
    "The number of rows and column in the file."
   ]
  },
  {
   "cell_type": "code",
   "execution_count": 3,
   "id": "6ced4302",
   "metadata": {},
   "outputs": [
    {
     "data": {
      "text/plain": [
       "(371540, 20)"
      ]
     },
     "execution_count": 3,
     "metadata": {},
     "output_type": "execute_result"
    }
   ],
   "source": [
    "df.shape"
   ]
  },
  {
   "cell_type": "code",
   "execution_count": 4,
   "id": "9adbd24a",
   "metadata": {},
   "outputs": [
    {
     "data": {
      "text/plain": [
       "RangeIndex(start=0, stop=371540, step=1)"
      ]
     },
     "execution_count": 4,
     "metadata": {},
     "output_type": "execute_result"
    }
   ],
   "source": [
    "df.index"
   ]
  },
  {
   "cell_type": "code",
   "execution_count": 5,
   "id": "cbcd3152",
   "metadata": {},
   "outputs": [
    {
     "data": {
      "text/plain": [
       "Index(['dateCrawled', 'name', 'seller', 'offerType', 'price', 'abtest',\n",
       "       'vehicleType', 'yearOfRegistration', 'gearbox', 'powerPS', 'model',\n",
       "       'kilometer', 'monthOfRegistration', 'fuelType', 'brand',\n",
       "       'notRepairedDamage', 'dateCreated', 'nrOfPictures', 'postalCode',\n",
       "       'lastSeen'],\n",
       "      dtype='object')"
      ]
     },
     "execution_count": 5,
     "metadata": {},
     "output_type": "execute_result"
    }
   ],
   "source": [
    "df.columns"
   ]
  },
  {
   "cell_type": "code",
   "execution_count": 6,
   "id": "262653a1",
   "metadata": {},
   "outputs": [
    {
     "name": "stdout",
     "output_type": "stream",
     "text": [
      "<class 'pandas.core.frame.DataFrame'>\n",
      "RangeIndex: 371540 entries, 0 to 371539\n",
      "Data columns (total 20 columns):\n",
      " #   Column               Non-Null Count   Dtype  \n",
      "---  ------               --------------   -----  \n",
      " 0   dateCrawled          371539 non-null  object \n",
      " 1   name                 371539 non-null  object \n",
      " 2   seller               371538 non-null  object \n",
      " 3   offerType            371538 non-null  object \n",
      " 4   price                371538 non-null  float64\n",
      " 5   abtest               371538 non-null  object \n",
      " 6   vehicleType          333669 non-null  object \n",
      " 7   yearOfRegistration   371537 non-null  float64\n",
      " 8   gearbox              351329 non-null  object \n",
      " 9   powerPS              371538 non-null  float64\n",
      " 10  model                351054 non-null  object \n",
      " 11  kilometer            371538 non-null  object \n",
      " 12  monthOfRegistration  371537 non-null  float64\n",
      " 13  fuelType             338151 non-null  object \n",
      " 14  brand                371537 non-null  object \n",
      " 15  notRepairedDamage    299477 non-null  object \n",
      " 16  dateCreated          371537 non-null  object \n",
      " 17  nrOfPictures         371537 non-null  float64\n",
      " 18  postalCode           371537 non-null  float64\n",
      " 19  lastSeen             371537 non-null  object \n",
      "dtypes: float64(6), object(14)\n",
      "memory usage: 56.7+ MB\n"
     ]
    }
   ],
   "source": [
    "df.info()"
   ]
  },
  {
   "cell_type": "code",
   "execution_count": 7,
   "id": "dce8ebc2",
   "metadata": {},
   "outputs": [
    {
     "data": {
      "text/html": [
       "<div>\n",
       "<style scoped>\n",
       "    .dataframe tbody tr th:only-of-type {\n",
       "        vertical-align: middle;\n",
       "    }\n",
       "\n",
       "    .dataframe tbody tr th {\n",
       "        vertical-align: top;\n",
       "    }\n",
       "\n",
       "    .dataframe thead th {\n",
       "        text-align: right;\n",
       "    }\n",
       "</style>\n",
       "<table border=\"1\" class=\"dataframe\">\n",
       "  <thead>\n",
       "    <tr style=\"text-align: right;\">\n",
       "      <th></th>\n",
       "      <th>price</th>\n",
       "      <th>yearOfRegistration</th>\n",
       "      <th>powerPS</th>\n",
       "      <th>monthOfRegistration</th>\n",
       "      <th>nrOfPictures</th>\n",
       "      <th>postalCode</th>\n",
       "    </tr>\n",
       "  </thead>\n",
       "  <tbody>\n",
       "    <tr>\n",
       "      <th>count</th>\n",
       "      <td>3.715380e+05</td>\n",
       "      <td>371537.000000</td>\n",
       "      <td>371538.000000</td>\n",
       "      <td>371537.000000</td>\n",
       "      <td>371537.0</td>\n",
       "      <td>371537.000000</td>\n",
       "    </tr>\n",
       "    <tr>\n",
       "      <th>mean</th>\n",
       "      <td>1.729544e+04</td>\n",
       "      <td>2004.577883</td>\n",
       "      <td>115.548840</td>\n",
       "      <td>5.734473</td>\n",
       "      <td>0.0</td>\n",
       "      <td>50820.666402</td>\n",
       "    </tr>\n",
       "    <tr>\n",
       "      <th>std</th>\n",
       "      <td>3.587905e+06</td>\n",
       "      <td>92.865496</td>\n",
       "      <td>192.137238</td>\n",
       "      <td>3.712383</td>\n",
       "      <td>0.0</td>\n",
       "      <td>25799.080292</td>\n",
       "    </tr>\n",
       "    <tr>\n",
       "      <th>min</th>\n",
       "      <td>0.000000e+00</td>\n",
       "      <td>1000.000000</td>\n",
       "      <td>0.000000</td>\n",
       "      <td>0.000000</td>\n",
       "      <td>0.0</td>\n",
       "      <td>1067.000000</td>\n",
       "    </tr>\n",
       "    <tr>\n",
       "      <th>25%</th>\n",
       "      <td>1.150000e+03</td>\n",
       "      <td>1999.000000</td>\n",
       "      <td>70.000000</td>\n",
       "      <td>3.000000</td>\n",
       "      <td>0.0</td>\n",
       "      <td>30459.000000</td>\n",
       "    </tr>\n",
       "    <tr>\n",
       "      <th>50%</th>\n",
       "      <td>2.950000e+03</td>\n",
       "      <td>2003.000000</td>\n",
       "      <td>105.000000</td>\n",
       "      <td>6.000000</td>\n",
       "      <td>0.0</td>\n",
       "      <td>49610.000000</td>\n",
       "    </tr>\n",
       "    <tr>\n",
       "      <th>75%</th>\n",
       "      <td>7.200000e+03</td>\n",
       "      <td>2008.000000</td>\n",
       "      <td>150.000000</td>\n",
       "      <td>9.000000</td>\n",
       "      <td>0.0</td>\n",
       "      <td>71546.000000</td>\n",
       "    </tr>\n",
       "    <tr>\n",
       "      <th>max</th>\n",
       "      <td>2.147484e+09</td>\n",
       "      <td>9999.000000</td>\n",
       "      <td>20000.000000</td>\n",
       "      <td>12.000000</td>\n",
       "      <td>0.0</td>\n",
       "      <td>99998.000000</td>\n",
       "    </tr>\n",
       "  </tbody>\n",
       "</table>\n",
       "</div>"
      ],
      "text/plain": [
       "              price  yearOfRegistration        powerPS  monthOfRegistration  \\\n",
       "count  3.715380e+05       371537.000000  371538.000000        371537.000000   \n",
       "mean   1.729544e+04         2004.577883     115.548840             5.734473   \n",
       "std    3.587905e+06           92.865496     192.137238             3.712383   \n",
       "min    0.000000e+00         1000.000000       0.000000             0.000000   \n",
       "25%    1.150000e+03         1999.000000      70.000000             3.000000   \n",
       "50%    2.950000e+03         2003.000000     105.000000             6.000000   \n",
       "75%    7.200000e+03         2008.000000     150.000000             9.000000   \n",
       "max    2.147484e+09         9999.000000   20000.000000            12.000000   \n",
       "\n",
       "       nrOfPictures     postalCode  \n",
       "count      371537.0  371537.000000  \n",
       "mean            0.0   50820.666402  \n",
       "std             0.0   25799.080292  \n",
       "min             0.0    1067.000000  \n",
       "25%             0.0   30459.000000  \n",
       "50%             0.0   49610.000000  \n",
       "75%             0.0   71546.000000  \n",
       "max             0.0   99998.000000  "
      ]
     },
     "execution_count": 7,
     "metadata": {},
     "output_type": "execute_result"
    }
   ],
   "source": [
    "df.describe()"
   ]
  },
  {
   "cell_type": "markdown",
   "id": "a98df1ac",
   "metadata": {},
   "source": [
    "From df. describe we can observe,\n",
    "1. min of yearOfRegistration is 1000\n",
    "2. max of yearOfRegistration is 9999\n",
    "3. min of monthOfRegistration is 0"
   ]
  },
  {
   "cell_type": "markdown",
   "id": "189ff3ac",
   "metadata": {},
   "source": [
    "We can drop the rows that will not be possible logically."
   ]
  },
  {
   "cell_type": "code",
   "execution_count": 8,
   "id": "2d84779a",
   "metadata": {},
   "outputs": [],
   "source": [
    "df.drop(df[df.yearOfRegistration<1800].index, inplace = True)"
   ]
  },
  {
   "cell_type": "code",
   "execution_count": 9,
   "id": "c542f1eb",
   "metadata": {},
   "outputs": [],
   "source": [
    "df.drop(df[df.yearOfRegistration>2023].index, inplace = True)"
   ]
  },
  {
   "cell_type": "code",
   "execution_count": 10,
   "id": "d54cbc7e",
   "metadata": {},
   "outputs": [],
   "source": [
    "df.drop(df[df.monthOfRegistration==0].index, inplace = True)"
   ]
  },
  {
   "cell_type": "code",
   "execution_count": 11,
   "id": "d5d58161",
   "metadata": {},
   "outputs": [
    {
     "data": {
      "text/html": [
       "<div>\n",
       "<style scoped>\n",
       "    .dataframe tbody tr th:only-of-type {\n",
       "        vertical-align: middle;\n",
       "    }\n",
       "\n",
       "    .dataframe tbody tr th {\n",
       "        vertical-align: top;\n",
       "    }\n",
       "\n",
       "    .dataframe thead th {\n",
       "        text-align: right;\n",
       "    }\n",
       "</style>\n",
       "<table border=\"1\" class=\"dataframe\">\n",
       "  <thead>\n",
       "    <tr style=\"text-align: right;\">\n",
       "      <th></th>\n",
       "      <th>dateCrawled</th>\n",
       "      <th>name</th>\n",
       "      <th>seller</th>\n",
       "      <th>offerType</th>\n",
       "      <th>price</th>\n",
       "      <th>abtest</th>\n",
       "      <th>vehicleType</th>\n",
       "      <th>yearOfRegistration</th>\n",
       "      <th>gearbox</th>\n",
       "      <th>powerPS</th>\n",
       "      <th>model</th>\n",
       "      <th>kilometer</th>\n",
       "      <th>monthOfRegistration</th>\n",
       "      <th>fuelType</th>\n",
       "      <th>brand</th>\n",
       "      <th>notRepairedDamage</th>\n",
       "      <th>dateCreated</th>\n",
       "      <th>nrOfPictures</th>\n",
       "      <th>postalCode</th>\n",
       "      <th>lastSeen</th>\n",
       "    </tr>\n",
       "  </thead>\n",
       "  <tbody>\n",
       "    <tr>\n",
       "      <th>1</th>\n",
       "      <td>24-03-2016 10:58</td>\n",
       "      <td>A5_Sportback_2.7_Tdi</td>\n",
       "      <td>privat</td>\n",
       "      <td>Angebot</td>\n",
       "      <td>18300.0</td>\n",
       "      <td>test</td>\n",
       "      <td>coupe</td>\n",
       "      <td>2011.0</td>\n",
       "      <td>manuell</td>\n",
       "      <td>190.0</td>\n",
       "      <td>NaN</td>\n",
       "      <td>125000</td>\n",
       "      <td>5.0</td>\n",
       "      <td>diesel</td>\n",
       "      <td>audi</td>\n",
       "      <td>ja</td>\n",
       "      <td>24-03-2016 00:00</td>\n",
       "      <td>0.0</td>\n",
       "      <td>66954.0</td>\n",
       "      <td>07-04-2016 01:46</td>\n",
       "    </tr>\n",
       "    <tr>\n",
       "      <th>2</th>\n",
       "      <td>14-03-2016 12:52</td>\n",
       "      <td>Jeep_Grand_Cherokee_\"Overland\"</td>\n",
       "      <td>privat</td>\n",
       "      <td>Angebot</td>\n",
       "      <td>9800.0</td>\n",
       "      <td>test</td>\n",
       "      <td>suv</td>\n",
       "      <td>2004.0</td>\n",
       "      <td>automatik</td>\n",
       "      <td>163.0</td>\n",
       "      <td>grand</td>\n",
       "      <td>125000</td>\n",
       "      <td>8.0</td>\n",
       "      <td>diesel</td>\n",
       "      <td>jeep</td>\n",
       "      <td>NaN</td>\n",
       "      <td>14-03-2016 00:00</td>\n",
       "      <td>0.0</td>\n",
       "      <td>90480.0</td>\n",
       "      <td>05-04-2016 12:47</td>\n",
       "    </tr>\n",
       "    <tr>\n",
       "      <th>3</th>\n",
       "      <td>17-03-2016 16:54</td>\n",
       "      <td>GOLF_4_1_4__3TÜRER</td>\n",
       "      <td>privat</td>\n",
       "      <td>Angebot</td>\n",
       "      <td>1500.0</td>\n",
       "      <td>test</td>\n",
       "      <td>kleinwagen</td>\n",
       "      <td>2001.0</td>\n",
       "      <td>manuell</td>\n",
       "      <td>75.0</td>\n",
       "      <td>golf</td>\n",
       "      <td>150000</td>\n",
       "      <td>6.0</td>\n",
       "      <td>benzin</td>\n",
       "      <td>volkswagen</td>\n",
       "      <td>nein</td>\n",
       "      <td>17-03-2016 00:00</td>\n",
       "      <td>0.0</td>\n",
       "      <td>91074.0</td>\n",
       "      <td>17-03-2016 17:40</td>\n",
       "    </tr>\n",
       "    <tr>\n",
       "      <th>4</th>\n",
       "      <td>31-03-2016 17:25</td>\n",
       "      <td>Skoda_Fabia_1.4_TDI_PD_Classic</td>\n",
       "      <td>privat</td>\n",
       "      <td>Angebot</td>\n",
       "      <td>3600.0</td>\n",
       "      <td>test</td>\n",
       "      <td>kleinwagen</td>\n",
       "      <td>2008.0</td>\n",
       "      <td>manuell</td>\n",
       "      <td>69.0</td>\n",
       "      <td>fabia</td>\n",
       "      <td>90000</td>\n",
       "      <td>7.0</td>\n",
       "      <td>diesel</td>\n",
       "      <td>skoda</td>\n",
       "      <td>nein</td>\n",
       "      <td>31-03-2016 00:00</td>\n",
       "      <td>0.0</td>\n",
       "      <td>60437.0</td>\n",
       "      <td>06-04-2016 10:17</td>\n",
       "    </tr>\n",
       "    <tr>\n",
       "      <th>5</th>\n",
       "      <td>04-04-2016 17:36</td>\n",
       "      <td>BMW_316i___e36_Limousine___Bastlerfahrzeug__Ex...</td>\n",
       "      <td>privat</td>\n",
       "      <td>Angebot</td>\n",
       "      <td>650.0</td>\n",
       "      <td>test</td>\n",
       "      <td>limousine</td>\n",
       "      <td>1995.0</td>\n",
       "      <td>manuell</td>\n",
       "      <td>102.0</td>\n",
       "      <td>3er</td>\n",
       "      <td>150000</td>\n",
       "      <td>10.0</td>\n",
       "      <td>benzin</td>\n",
       "      <td>bmw</td>\n",
       "      <td>ja</td>\n",
       "      <td>04-04-2016 00:00</td>\n",
       "      <td>0.0</td>\n",
       "      <td>33775.0</td>\n",
       "      <td>06-04-2016 19:17</td>\n",
       "    </tr>\n",
       "    <tr>\n",
       "      <th>...</th>\n",
       "      <td>...</td>\n",
       "      <td>...</td>\n",
       "      <td>...</td>\n",
       "      <td>...</td>\n",
       "      <td>...</td>\n",
       "      <td>...</td>\n",
       "      <td>...</td>\n",
       "      <td>...</td>\n",
       "      <td>...</td>\n",
       "      <td>...</td>\n",
       "      <td>...</td>\n",
       "      <td>...</td>\n",
       "      <td>...</td>\n",
       "      <td>...</td>\n",
       "      <td>...</td>\n",
       "      <td>...</td>\n",
       "      <td>...</td>\n",
       "      <td>...</td>\n",
       "      <td>...</td>\n",
       "      <td>...</td>\n",
       "    </tr>\n",
       "    <tr>\n",
       "      <th>371535</th>\n",
       "      <td>14-03-2016 17:48</td>\n",
       "      <td>Suche_t4___vito_ab_6_sitze</td>\n",
       "      <td>privat</td>\n",
       "      <td>Angebot</td>\n",
       "      <td>2200.0</td>\n",
       "      <td>test</td>\n",
       "      <td>NaN</td>\n",
       "      <td>2005.0</td>\n",
       "      <td>NaN</td>\n",
       "      <td>0.0</td>\n",
       "      <td>NaN</td>\n",
       "      <td>20000</td>\n",
       "      <td>1.0</td>\n",
       "      <td>NaN</td>\n",
       "      <td>sonstige_autos</td>\n",
       "      <td>NaN</td>\n",
       "      <td>14-03-2016 00:00</td>\n",
       "      <td>0.0</td>\n",
       "      <td>39576.0</td>\n",
       "      <td>06-04-2016 00:46</td>\n",
       "    </tr>\n",
       "    <tr>\n",
       "      <th>371536</th>\n",
       "      <td>05-03-2016 19:56</td>\n",
       "      <td>Smart_smart_leistungssteigerung_100ps</td>\n",
       "      <td>privat</td>\n",
       "      <td>Angebot</td>\n",
       "      <td>1199.0</td>\n",
       "      <td>test</td>\n",
       "      <td>cabrio</td>\n",
       "      <td>2000.0</td>\n",
       "      <td>automatik</td>\n",
       "      <td>101.0</td>\n",
       "      <td>fortwo</td>\n",
       "      <td>125000</td>\n",
       "      <td>3.0</td>\n",
       "      <td>benzin</td>\n",
       "      <td>smart</td>\n",
       "      <td>nein</td>\n",
       "      <td>05-03-2016 00:00</td>\n",
       "      <td>0.0</td>\n",
       "      <td>26135.0</td>\n",
       "      <td>11-03-2016 18:17</td>\n",
       "    </tr>\n",
       "    <tr>\n",
       "      <th>371537</th>\n",
       "      <td>19-03-2016 18:57</td>\n",
       "      <td>Volkswagen_Multivan_T4_TDI_7DC_UY2</td>\n",
       "      <td>privat</td>\n",
       "      <td>Angebot</td>\n",
       "      <td>9200.0</td>\n",
       "      <td>test</td>\n",
       "      <td>bus</td>\n",
       "      <td>1996.0</td>\n",
       "      <td>manuell</td>\n",
       "      <td>102.0</td>\n",
       "      <td>transporter</td>\n",
       "      <td>150000</td>\n",
       "      <td>3.0</td>\n",
       "      <td>diesel</td>\n",
       "      <td>volkswagen</td>\n",
       "      <td>nein</td>\n",
       "      <td>19-03-2016 00:00</td>\n",
       "      <td>0.0</td>\n",
       "      <td>87439.0</td>\n",
       "      <td>07-04-2016 07:15</td>\n",
       "    </tr>\n",
       "    <tr>\n",
       "      <th>371538</th>\n",
       "      <td>20-03-2016 19:41</td>\n",
       "      <td>VW_Golf_Kombi_1_9l_TDI</td>\n",
       "      <td>privat</td>\n",
       "      <td>Angebot</td>\n",
       "      <td>3400.0</td>\n",
       "      <td>test</td>\n",
       "      <td>kombi</td>\n",
       "      <td>2002.0</td>\n",
       "      <td>manuell</td>\n",
       "      <td>100.0</td>\n",
       "      <td>golf</td>\n",
       "      <td>150000</td>\n",
       "      <td>6.0</td>\n",
       "      <td>diesel</td>\n",
       "      <td>volkswagen</td>\n",
       "      <td>NaN</td>\n",
       "      <td>20-03-2016 00:00</td>\n",
       "      <td>0.0</td>\n",
       "      <td>40764.0</td>\n",
       "      <td>24-03-2016 12:45</td>\n",
       "    </tr>\n",
       "    <tr>\n",
       "      <th>371539</th>\n",
       "      <td>07-03-2016 19:39</td>\n",
       "      <td>BMW_M135i_vollausgestattet_NP_52.720____Euro</td>\n",
       "      <td>privat</td>\n",
       "      <td>Angebot</td>\n",
       "      <td>28990.0</td>\n",
       "      <td>control</td>\n",
       "      <td>limousine</td>\n",
       "      <td>2013.0</td>\n",
       "      <td>manuell</td>\n",
       "      <td>320.0</td>\n",
       "      <td>m_reihe</td>\n",
       "      <td>50000</td>\n",
       "      <td>8.0</td>\n",
       "      <td>benzin</td>\n",
       "      <td>bmw</td>\n",
       "      <td>nein</td>\n",
       "      <td>07-03-2016 00:00</td>\n",
       "      <td>0.0</td>\n",
       "      <td>73326.0</td>\n",
       "      <td>22-03-2016 03:17</td>\n",
       "    </tr>\n",
       "  </tbody>\n",
       "</table>\n",
       "<p>333825 rows × 20 columns</p>\n",
       "</div>"
      ],
      "text/plain": [
       "             dateCrawled                                               name  \\\n",
       "1       24-03-2016 10:58                               A5_Sportback_2.7_Tdi   \n",
       "2       14-03-2016 12:52                     Jeep_Grand_Cherokee_\"Overland\"   \n",
       "3       17-03-2016 16:54                                 GOLF_4_1_4__3TÜRER   \n",
       "4       31-03-2016 17:25                     Skoda_Fabia_1.4_TDI_PD_Classic   \n",
       "5       04-04-2016 17:36  BMW_316i___e36_Limousine___Bastlerfahrzeug__Ex...   \n",
       "...                  ...                                                ...   \n",
       "371535  14-03-2016 17:48                         Suche_t4___vito_ab_6_sitze   \n",
       "371536  05-03-2016 19:56              Smart_smart_leistungssteigerung_100ps   \n",
       "371537  19-03-2016 18:57                 Volkswagen_Multivan_T4_TDI_7DC_UY2   \n",
       "371538  20-03-2016 19:41                             VW_Golf_Kombi_1_9l_TDI   \n",
       "371539  07-03-2016 19:39       BMW_M135i_vollausgestattet_NP_52.720____Euro   \n",
       "\n",
       "        seller offerType    price   abtest vehicleType  yearOfRegistration  \\\n",
       "1       privat   Angebot  18300.0     test       coupe              2011.0   \n",
       "2       privat   Angebot   9800.0     test         suv              2004.0   \n",
       "3       privat   Angebot   1500.0     test  kleinwagen              2001.0   \n",
       "4       privat   Angebot   3600.0     test  kleinwagen              2008.0   \n",
       "5       privat   Angebot    650.0     test   limousine              1995.0   \n",
       "...        ...       ...      ...      ...         ...                 ...   \n",
       "371535  privat   Angebot   2200.0     test         NaN              2005.0   \n",
       "371536  privat   Angebot   1199.0     test      cabrio              2000.0   \n",
       "371537  privat   Angebot   9200.0     test         bus              1996.0   \n",
       "371538  privat   Angebot   3400.0     test       kombi              2002.0   \n",
       "371539  privat   Angebot  28990.0  control   limousine              2013.0   \n",
       "\n",
       "          gearbox  powerPS        model kilometer  monthOfRegistration  \\\n",
       "1         manuell    190.0          NaN    125000                  5.0   \n",
       "2       automatik    163.0        grand    125000                  8.0   \n",
       "3         manuell     75.0         golf    150000                  6.0   \n",
       "4         manuell     69.0        fabia     90000                  7.0   \n",
       "5         manuell    102.0          3er    150000                 10.0   \n",
       "...           ...      ...          ...       ...                  ...   \n",
       "371535        NaN      0.0          NaN     20000                  1.0   \n",
       "371536  automatik    101.0       fortwo    125000                  3.0   \n",
       "371537    manuell    102.0  transporter    150000                  3.0   \n",
       "371538    manuell    100.0         golf    150000                  6.0   \n",
       "371539    manuell    320.0      m_reihe     50000                  8.0   \n",
       "\n",
       "       fuelType           brand notRepairedDamage       dateCreated  \\\n",
       "1        diesel            audi                ja  24-03-2016 00:00   \n",
       "2        diesel            jeep               NaN  14-03-2016 00:00   \n",
       "3        benzin      volkswagen              nein  17-03-2016 00:00   \n",
       "4        diesel           skoda              nein  31-03-2016 00:00   \n",
       "5        benzin             bmw                ja  04-04-2016 00:00   \n",
       "...         ...             ...               ...               ...   \n",
       "371535      NaN  sonstige_autos               NaN  14-03-2016 00:00   \n",
       "371536   benzin           smart              nein  05-03-2016 00:00   \n",
       "371537   diesel      volkswagen              nein  19-03-2016 00:00   \n",
       "371538   diesel      volkswagen               NaN  20-03-2016 00:00   \n",
       "371539   benzin             bmw              nein  07-03-2016 00:00   \n",
       "\n",
       "        nrOfPictures  postalCode          lastSeen  \n",
       "1                0.0     66954.0  07-04-2016 01:46  \n",
       "2                0.0     90480.0  05-04-2016 12:47  \n",
       "3                0.0     91074.0  17-03-2016 17:40  \n",
       "4                0.0     60437.0  06-04-2016 10:17  \n",
       "5                0.0     33775.0  06-04-2016 19:17  \n",
       "...              ...         ...               ...  \n",
       "371535           0.0     39576.0  06-04-2016 00:46  \n",
       "371536           0.0     26135.0  11-03-2016 18:17  \n",
       "371537           0.0     87439.0  07-04-2016 07:15  \n",
       "371538           0.0     40764.0  24-03-2016 12:45  \n",
       "371539           0.0     73326.0  22-03-2016 03:17  \n",
       "\n",
       "[333825 rows x 20 columns]"
      ]
     },
     "execution_count": 11,
     "metadata": {},
     "output_type": "execute_result"
    }
   ],
   "source": [
    "df"
   ]
  },
  {
   "cell_type": "code",
   "execution_count": 12,
   "id": "43abeb3d",
   "metadata": {},
   "outputs": [
    {
     "data": {
      "text/html": [
       "<div>\n",
       "<style scoped>\n",
       "    .dataframe tbody tr th:only-of-type {\n",
       "        vertical-align: middle;\n",
       "    }\n",
       "\n",
       "    .dataframe tbody tr th {\n",
       "        vertical-align: top;\n",
       "    }\n",
       "\n",
       "    .dataframe thead th {\n",
       "        text-align: right;\n",
       "    }\n",
       "</style>\n",
       "<table border=\"1\" class=\"dataframe\">\n",
       "  <thead>\n",
       "    <tr style=\"text-align: right;\">\n",
       "      <th></th>\n",
       "      <th>price</th>\n",
       "      <th>yearOfRegistration</th>\n",
       "      <th>powerPS</th>\n",
       "      <th>monthOfRegistration</th>\n",
       "      <th>nrOfPictures</th>\n",
       "      <th>postalCode</th>\n",
       "    </tr>\n",
       "  </thead>\n",
       "  <tbody>\n",
       "    <tr>\n",
       "      <th>count</th>\n",
       "      <td>3.338230e+05</td>\n",
       "      <td>333822.000000</td>\n",
       "      <td>333823.000000</td>\n",
       "      <td>333822.000000</td>\n",
       "      <td>333822.0</td>\n",
       "      <td>333822.000000</td>\n",
       "    </tr>\n",
       "    <tr>\n",
       "      <th>mean</th>\n",
       "      <td>1.605089e+04</td>\n",
       "      <td>2003.564346</td>\n",
       "      <td>120.577081</td>\n",
       "      <td>6.381709</td>\n",
       "      <td>0.0</td>\n",
       "      <td>51185.544503</td>\n",
       "    </tr>\n",
       "    <tr>\n",
       "      <th>std</th>\n",
       "      <td>3.754281e+06</td>\n",
       "      <td>7.419682</td>\n",
       "      <td>184.615545</td>\n",
       "      <td>3.347750</td>\n",
       "      <td>0.0</td>\n",
       "      <td>25750.446681</td>\n",
       "    </tr>\n",
       "    <tr>\n",
       "      <th>min</th>\n",
       "      <td>0.000000e+00</td>\n",
       "      <td>1800.000000</td>\n",
       "      <td>0.000000</td>\n",
       "      <td>1.000000</td>\n",
       "      <td>0.0</td>\n",
       "      <td>1067.000000</td>\n",
       "    </tr>\n",
       "    <tr>\n",
       "      <th>25%</th>\n",
       "      <td>1.300000e+03</td>\n",
       "      <td>1999.000000</td>\n",
       "      <td>75.000000</td>\n",
       "      <td>4.000000</td>\n",
       "      <td>0.0</td>\n",
       "      <td>30916.000000</td>\n",
       "    </tr>\n",
       "    <tr>\n",
       "      <th>50%</th>\n",
       "      <td>3.300000e+03</td>\n",
       "      <td>2004.000000</td>\n",
       "      <td>110.000000</td>\n",
       "      <td>6.000000</td>\n",
       "      <td>0.0</td>\n",
       "      <td>50170.000000</td>\n",
       "    </tr>\n",
       "    <tr>\n",
       "      <th>75%</th>\n",
       "      <td>7.800000e+03</td>\n",
       "      <td>2008.000000</td>\n",
       "      <td>150.000000</td>\n",
       "      <td>9.000000</td>\n",
       "      <td>0.0</td>\n",
       "      <td>72076.000000</td>\n",
       "    </tr>\n",
       "    <tr>\n",
       "      <th>max</th>\n",
       "      <td>2.147484e+09</td>\n",
       "      <td>2019.000000</td>\n",
       "      <td>20000.000000</td>\n",
       "      <td>12.000000</td>\n",
       "      <td>0.0</td>\n",
       "      <td>99998.000000</td>\n",
       "    </tr>\n",
       "  </tbody>\n",
       "</table>\n",
       "</div>"
      ],
      "text/plain": [
       "              price  yearOfRegistration        powerPS  monthOfRegistration  \\\n",
       "count  3.338230e+05       333822.000000  333823.000000        333822.000000   \n",
       "mean   1.605089e+04         2003.564346     120.577081             6.381709   \n",
       "std    3.754281e+06            7.419682     184.615545             3.347750   \n",
       "min    0.000000e+00         1800.000000       0.000000             1.000000   \n",
       "25%    1.300000e+03         1999.000000      75.000000             4.000000   \n",
       "50%    3.300000e+03         2004.000000     110.000000             6.000000   \n",
       "75%    7.800000e+03         2008.000000     150.000000             9.000000   \n",
       "max    2.147484e+09         2019.000000   20000.000000            12.000000   \n",
       "\n",
       "       nrOfPictures     postalCode  \n",
       "count      333822.0  333822.000000  \n",
       "mean            0.0   51185.544503  \n",
       "std             0.0   25750.446681  \n",
       "min             0.0    1067.000000  \n",
       "25%             0.0   30916.000000  \n",
       "50%             0.0   50170.000000  \n",
       "75%             0.0   72076.000000  \n",
       "max             0.0   99998.000000  "
      ]
     },
     "execution_count": 12,
     "metadata": {},
     "output_type": "execute_result"
    }
   ],
   "source": [
    "df.describe()"
   ]
  },
  {
   "cell_type": "code",
   "execution_count": 13,
   "id": "1af108d0",
   "metadata": {},
   "outputs": [
    {
     "data": {
      "text/html": [
       "<div>\n",
       "<style scoped>\n",
       "    .dataframe tbody tr th:only-of-type {\n",
       "        vertical-align: middle;\n",
       "    }\n",
       "\n",
       "    .dataframe tbody tr th {\n",
       "        vertical-align: top;\n",
       "    }\n",
       "\n",
       "    .dataframe thead th {\n",
       "        text-align: right;\n",
       "    }\n",
       "</style>\n",
       "<table border=\"1\" class=\"dataframe\">\n",
       "  <thead>\n",
       "    <tr style=\"text-align: right;\">\n",
       "      <th></th>\n",
       "      <th>dateCrawled</th>\n",
       "      <th>name</th>\n",
       "      <th>seller</th>\n",
       "      <th>offerType</th>\n",
       "      <th>price</th>\n",
       "      <th>abtest</th>\n",
       "      <th>vehicleType</th>\n",
       "      <th>yearOfRegistration</th>\n",
       "      <th>gearbox</th>\n",
       "      <th>powerPS</th>\n",
       "      <th>model</th>\n",
       "      <th>kilometer</th>\n",
       "      <th>monthOfRegistration</th>\n",
       "      <th>fuelType</th>\n",
       "      <th>brand</th>\n",
       "      <th>notRepairedDamage</th>\n",
       "      <th>dateCreated</th>\n",
       "      <th>nrOfPictures</th>\n",
       "      <th>postalCode</th>\n",
       "      <th>lastSeen</th>\n",
       "    </tr>\n",
       "  </thead>\n",
       "  <tbody>\n",
       "    <tr>\n",
       "      <th>82051</th>\n",
       "      <td>23-03-2016 17:48</td>\n",
       "      <td>Audi_A6_combi</td>\n",
       "      <td>privat</td>\n",
       "      <td>Angebot</td>\n",
       "      <td>1350.0</td>\n",
       "      <td>control</td>\n",
       "      <td>kombi</td>\n",
       "      <td>2000.0</td>\n",
       "      <td>manuell</td>\n",
       "      <td>150.0</td>\n",
       "      <td>a6</td>\n",
       "      <td>150000</td>\n",
       "      <td>3.0</td>\n",
       "      <td>diesel</td>\n",
       "      <td>audi</td>\n",
       "      <td>nein</td>\n",
       "      <td>23-03-2016 00:00</td>\n",
       "      <td>0.0</td>\n",
       "      <td>90763.0</td>\n",
       "      <td>25-03-2016 01:44</td>\n",
       "    </tr>\n",
       "    <tr>\n",
       "      <th>59259</th>\n",
       "      <td>09-03-2016 18:50</td>\n",
       "      <td>Volkswagen_Caddy_1.9_TDI__5_Si.__+_TÜV_+_Gruen...</td>\n",
       "      <td>privat</td>\n",
       "      <td>Angebot</td>\n",
       "      <td>3800.0</td>\n",
       "      <td>control</td>\n",
       "      <td>kombi</td>\n",
       "      <td>2006.0</td>\n",
       "      <td>manuell</td>\n",
       "      <td>75.0</td>\n",
       "      <td>caddy</td>\n",
       "      <td>150000</td>\n",
       "      <td>5.0</td>\n",
       "      <td>diesel</td>\n",
       "      <td>volkswagen</td>\n",
       "      <td>nein</td>\n",
       "      <td>09-03-2016 00:00</td>\n",
       "      <td>0.0</td>\n",
       "      <td>55120.0</td>\n",
       "      <td>29-03-2016 05:45</td>\n",
       "    </tr>\n",
       "    <tr>\n",
       "      <th>134730</th>\n",
       "      <td>12-03-2016 13:41</td>\n",
       "      <td>VW_EOS_2.0_TDI</td>\n",
       "      <td>privat</td>\n",
       "      <td>Angebot</td>\n",
       "      <td>5000.0</td>\n",
       "      <td>control</td>\n",
       "      <td>NaN</td>\n",
       "      <td>2017.0</td>\n",
       "      <td>NaN</td>\n",
       "      <td>140.0</td>\n",
       "      <td>eos</td>\n",
       "      <td>150000</td>\n",
       "      <td>10.0</td>\n",
       "      <td>diesel</td>\n",
       "      <td>volkswagen</td>\n",
       "      <td>NaN</td>\n",
       "      <td>12-03-2016 00:00</td>\n",
       "      <td>0.0</td>\n",
       "      <td>33602.0</td>\n",
       "      <td>12-03-2016 13:41</td>\n",
       "    </tr>\n",
       "    <tr>\n",
       "      <th>240458</th>\n",
       "      <td>05-03-2016 17:38</td>\n",
       "      <td>Audi_Q3_2.0_TDI</td>\n",
       "      <td>privat</td>\n",
       "      <td>Angebot</td>\n",
       "      <td>22800.0</td>\n",
       "      <td>test</td>\n",
       "      <td>limousine</td>\n",
       "      <td>2013.0</td>\n",
       "      <td>manuell</td>\n",
       "      <td>140.0</td>\n",
       "      <td>q3</td>\n",
       "      <td>40000</td>\n",
       "      <td>5.0</td>\n",
       "      <td>diesel</td>\n",
       "      <td>audi</td>\n",
       "      <td>nein</td>\n",
       "      <td>05-03-2016 00:00</td>\n",
       "      <td>0.0</td>\n",
       "      <td>94249.0</td>\n",
       "      <td>10-03-2016 12:16</td>\n",
       "    </tr>\n",
       "    <tr>\n",
       "      <th>262236</th>\n",
       "      <td>16-03-2016 13:37</td>\n",
       "      <td>Super_Auto_fuer_alles_auf_was_man_so_Lust_hat</td>\n",
       "      <td>privat</td>\n",
       "      <td>Angebot</td>\n",
       "      <td>13000.0</td>\n",
       "      <td>control</td>\n",
       "      <td>suv</td>\n",
       "      <td>2010.0</td>\n",
       "      <td>manuell</td>\n",
       "      <td>140.0</td>\n",
       "      <td>kuga</td>\n",
       "      <td>150000</td>\n",
       "      <td>7.0</td>\n",
       "      <td>diesel</td>\n",
       "      <td>ford</td>\n",
       "      <td>NaN</td>\n",
       "      <td>16-03-2016 00:00</td>\n",
       "      <td>0.0</td>\n",
       "      <td>79650.0</td>\n",
       "      <td>06-04-2016 12:45</td>\n",
       "    </tr>\n",
       "    <tr>\n",
       "      <th>115100</th>\n",
       "      <td>05-03-2016 14:49</td>\n",
       "      <td>Volkswagen_Golf_1.4_TÜV_AU_NEU__SCHECKHEFTGEPF...</td>\n",
       "      <td>privat</td>\n",
       "      <td>Angebot</td>\n",
       "      <td>1990.0</td>\n",
       "      <td>control</td>\n",
       "      <td>limousine</td>\n",
       "      <td>2002.0</td>\n",
       "      <td>manuell</td>\n",
       "      <td>75.0</td>\n",
       "      <td>golf</td>\n",
       "      <td>150000</td>\n",
       "      <td>10.0</td>\n",
       "      <td>benzin</td>\n",
       "      <td>volkswagen</td>\n",
       "      <td>nein</td>\n",
       "      <td>05-03-2016 00:00</td>\n",
       "      <td>0.0</td>\n",
       "      <td>38259.0</td>\n",
       "      <td>05-03-2016 18:45</td>\n",
       "    </tr>\n",
       "    <tr>\n",
       "      <th>290258</th>\n",
       "      <td>14-03-2016 16:51</td>\n",
       "      <td>Mercedes_Benz_S_500</td>\n",
       "      <td>privat</td>\n",
       "      <td>Angebot</td>\n",
       "      <td>2900.0</td>\n",
       "      <td>test</td>\n",
       "      <td>limousine</td>\n",
       "      <td>2000.0</td>\n",
       "      <td>automatik</td>\n",
       "      <td>306.0</td>\n",
       "      <td>s_klasse</td>\n",
       "      <td>150000</td>\n",
       "      <td>7.0</td>\n",
       "      <td>benzin</td>\n",
       "      <td>mercedes_benz</td>\n",
       "      <td>nein</td>\n",
       "      <td>14-03-2016 00:00</td>\n",
       "      <td>0.0</td>\n",
       "      <td>50739.0</td>\n",
       "      <td>23-03-2016 17:18</td>\n",
       "    </tr>\n",
       "    <tr>\n",
       "      <th>119215</th>\n",
       "      <td>19-03-2016 14:37</td>\n",
       "      <td>Beetle_Cabriolet__Disign_1_2_TSI____Silber_Met...</td>\n",
       "      <td>privat</td>\n",
       "      <td>Angebot</td>\n",
       "      <td>19750.0</td>\n",
       "      <td>test</td>\n",
       "      <td>cabrio</td>\n",
       "      <td>2013.0</td>\n",
       "      <td>manuell</td>\n",
       "      <td>105.0</td>\n",
       "      <td>beetle</td>\n",
       "      <td>20000</td>\n",
       "      <td>7.0</td>\n",
       "      <td>benzin</td>\n",
       "      <td>volkswagen</td>\n",
       "      <td>nein</td>\n",
       "      <td>19-03-2016 00:00</td>\n",
       "      <td>0.0</td>\n",
       "      <td>46342.0</td>\n",
       "      <td>06-04-2016 11:46</td>\n",
       "    </tr>\n",
       "    <tr>\n",
       "      <th>230185</th>\n",
       "      <td>27-03-2016 20:56</td>\n",
       "      <td>Mercedes_Benz_C_200_Kompressor_Sportcoupe</td>\n",
       "      <td>privat</td>\n",
       "      <td>Angebot</td>\n",
       "      <td>4800.0</td>\n",
       "      <td>control</td>\n",
       "      <td>coupe</td>\n",
       "      <td>2001.0</td>\n",
       "      <td>automatik</td>\n",
       "      <td>163.0</td>\n",
       "      <td>c_klasse</td>\n",
       "      <td>150000</td>\n",
       "      <td>5.0</td>\n",
       "      <td>benzin</td>\n",
       "      <td>mercedes_benz</td>\n",
       "      <td>nein</td>\n",
       "      <td>27-03-2016 00:00</td>\n",
       "      <td>0.0</td>\n",
       "      <td>69126.0</td>\n",
       "      <td>05-04-2016 20:17</td>\n",
       "    </tr>\n",
       "    <tr>\n",
       "      <th>325077</th>\n",
       "      <td>03-04-2016 17:44</td>\n",
       "      <td>Renault_Espace_2.0</td>\n",
       "      <td>privat</td>\n",
       "      <td>Angebot</td>\n",
       "      <td>1750.0</td>\n",
       "      <td>test</td>\n",
       "      <td>bus</td>\n",
       "      <td>2001.0</td>\n",
       "      <td>manuell</td>\n",
       "      <td>140.0</td>\n",
       "      <td>espace</td>\n",
       "      <td>150000</td>\n",
       "      <td>4.0</td>\n",
       "      <td>benzin</td>\n",
       "      <td>renault</td>\n",
       "      <td>nein</td>\n",
       "      <td>03-04-2016 00:00</td>\n",
       "      <td>0.0</td>\n",
       "      <td>96215.0</td>\n",
       "      <td>05-04-2016 17:26</td>\n",
       "    </tr>\n",
       "  </tbody>\n",
       "</table>\n",
       "</div>"
      ],
      "text/plain": [
       "             dateCrawled                                               name  \\\n",
       "82051   23-03-2016 17:48                                      Audi_A6_combi   \n",
       "59259   09-03-2016 18:50  Volkswagen_Caddy_1.9_TDI__5_Si.__+_TÜV_+_Gruen...   \n",
       "134730  12-03-2016 13:41                                     VW_EOS_2.0_TDI   \n",
       "240458  05-03-2016 17:38                                    Audi_Q3_2.0_TDI   \n",
       "262236  16-03-2016 13:37      Super_Auto_fuer_alles_auf_was_man_so_Lust_hat   \n",
       "115100  05-03-2016 14:49  Volkswagen_Golf_1.4_TÜV_AU_NEU__SCHECKHEFTGEPF...   \n",
       "290258  14-03-2016 16:51                                Mercedes_Benz_S_500   \n",
       "119215  19-03-2016 14:37  Beetle_Cabriolet__Disign_1_2_TSI____Silber_Met...   \n",
       "230185  27-03-2016 20:56          Mercedes_Benz_C_200_Kompressor_Sportcoupe   \n",
       "325077  03-04-2016 17:44                                 Renault_Espace_2.0   \n",
       "\n",
       "        seller offerType    price   abtest vehicleType  yearOfRegistration  \\\n",
       "82051   privat   Angebot   1350.0  control       kombi              2000.0   \n",
       "59259   privat   Angebot   3800.0  control       kombi              2006.0   \n",
       "134730  privat   Angebot   5000.0  control         NaN              2017.0   \n",
       "240458  privat   Angebot  22800.0     test   limousine              2013.0   \n",
       "262236  privat   Angebot  13000.0  control         suv              2010.0   \n",
       "115100  privat   Angebot   1990.0  control   limousine              2002.0   \n",
       "290258  privat   Angebot   2900.0     test   limousine              2000.0   \n",
       "119215  privat   Angebot  19750.0     test      cabrio              2013.0   \n",
       "230185  privat   Angebot   4800.0  control       coupe              2001.0   \n",
       "325077  privat   Angebot   1750.0     test         bus              2001.0   \n",
       "\n",
       "          gearbox  powerPS     model kilometer  monthOfRegistration fuelType  \\\n",
       "82051     manuell    150.0        a6    150000                  3.0   diesel   \n",
       "59259     manuell     75.0     caddy    150000                  5.0   diesel   \n",
       "134730        NaN    140.0       eos    150000                 10.0   diesel   \n",
       "240458    manuell    140.0        q3     40000                  5.0   diesel   \n",
       "262236    manuell    140.0      kuga    150000                  7.0   diesel   \n",
       "115100    manuell     75.0      golf    150000                 10.0   benzin   \n",
       "290258  automatik    306.0  s_klasse    150000                  7.0   benzin   \n",
       "119215    manuell    105.0    beetle     20000                  7.0   benzin   \n",
       "230185  automatik    163.0  c_klasse    150000                  5.0   benzin   \n",
       "325077    manuell    140.0    espace    150000                  4.0   benzin   \n",
       "\n",
       "                brand notRepairedDamage       dateCreated  nrOfPictures  \\\n",
       "82051            audi              nein  23-03-2016 00:00           0.0   \n",
       "59259      volkswagen              nein  09-03-2016 00:00           0.0   \n",
       "134730     volkswagen               NaN  12-03-2016 00:00           0.0   \n",
       "240458           audi              nein  05-03-2016 00:00           0.0   \n",
       "262236           ford               NaN  16-03-2016 00:00           0.0   \n",
       "115100     volkswagen              nein  05-03-2016 00:00           0.0   \n",
       "290258  mercedes_benz              nein  14-03-2016 00:00           0.0   \n",
       "119215     volkswagen              nein  19-03-2016 00:00           0.0   \n",
       "230185  mercedes_benz              nein  27-03-2016 00:00           0.0   \n",
       "325077        renault              nein  03-04-2016 00:00           0.0   \n",
       "\n",
       "        postalCode          lastSeen  \n",
       "82051      90763.0  25-03-2016 01:44  \n",
       "59259      55120.0  29-03-2016 05:45  \n",
       "134730     33602.0  12-03-2016 13:41  \n",
       "240458     94249.0  10-03-2016 12:16  \n",
       "262236     79650.0  06-04-2016 12:45  \n",
       "115100     38259.0  05-03-2016 18:45  \n",
       "290258     50739.0  23-03-2016 17:18  \n",
       "119215     46342.0  06-04-2016 11:46  \n",
       "230185     69126.0  05-04-2016 20:17  \n",
       "325077     96215.0  05-04-2016 17:26  "
      ]
     },
     "execution_count": 13,
     "metadata": {},
     "output_type": "execute_result"
    }
   ],
   "source": [
    "df.sample(10)"
   ]
  },
  {
   "cell_type": "code",
   "execution_count": 14,
   "id": "2a0cc8aa",
   "metadata": {},
   "outputs": [],
   "source": [
    "df.dropna(inplace = True)"
   ]
  },
  {
   "cell_type": "markdown",
   "id": "b6cdaf65",
   "metadata": {},
   "source": [
    "To get precise data, we can drop the rows that contain NULL values."
   ]
  },
  {
   "cell_type": "code",
   "execution_count": 15,
   "id": "c1f091f6",
   "metadata": {},
   "outputs": [
    {
     "data": {
      "text/html": [
       "<div>\n",
       "<style scoped>\n",
       "    .dataframe tbody tr th:only-of-type {\n",
       "        vertical-align: middle;\n",
       "    }\n",
       "\n",
       "    .dataframe tbody tr th {\n",
       "        vertical-align: top;\n",
       "    }\n",
       "\n",
       "    .dataframe thead th {\n",
       "        text-align: right;\n",
       "    }\n",
       "</style>\n",
       "<table border=\"1\" class=\"dataframe\">\n",
       "  <thead>\n",
       "    <tr style=\"text-align: right;\">\n",
       "      <th></th>\n",
       "      <th>dateCrawled</th>\n",
       "      <th>name</th>\n",
       "      <th>seller</th>\n",
       "      <th>offerType</th>\n",
       "      <th>price</th>\n",
       "      <th>abtest</th>\n",
       "      <th>vehicleType</th>\n",
       "      <th>yearOfRegistration</th>\n",
       "      <th>gearbox</th>\n",
       "      <th>powerPS</th>\n",
       "      <th>model</th>\n",
       "      <th>kilometer</th>\n",
       "      <th>monthOfRegistration</th>\n",
       "      <th>fuelType</th>\n",
       "      <th>brand</th>\n",
       "      <th>notRepairedDamage</th>\n",
       "      <th>dateCreated</th>\n",
       "      <th>nrOfPictures</th>\n",
       "      <th>postalCode</th>\n",
       "      <th>lastSeen</th>\n",
       "    </tr>\n",
       "  </thead>\n",
       "  <tbody>\n",
       "    <tr>\n",
       "      <th>3</th>\n",
       "      <td>17-03-2016 16:54</td>\n",
       "      <td>GOLF_4_1_4__3TÜRER</td>\n",
       "      <td>privat</td>\n",
       "      <td>Angebot</td>\n",
       "      <td>1500.0</td>\n",
       "      <td>test</td>\n",
       "      <td>kleinwagen</td>\n",
       "      <td>2001.0</td>\n",
       "      <td>manuell</td>\n",
       "      <td>75.0</td>\n",
       "      <td>golf</td>\n",
       "      <td>150000</td>\n",
       "      <td>6.0</td>\n",
       "      <td>benzin</td>\n",
       "      <td>volkswagen</td>\n",
       "      <td>nein</td>\n",
       "      <td>17-03-2016 00:00</td>\n",
       "      <td>0.0</td>\n",
       "      <td>91074.0</td>\n",
       "      <td>17-03-2016 17:40</td>\n",
       "    </tr>\n",
       "    <tr>\n",
       "      <th>4</th>\n",
       "      <td>31-03-2016 17:25</td>\n",
       "      <td>Skoda_Fabia_1.4_TDI_PD_Classic</td>\n",
       "      <td>privat</td>\n",
       "      <td>Angebot</td>\n",
       "      <td>3600.0</td>\n",
       "      <td>test</td>\n",
       "      <td>kleinwagen</td>\n",
       "      <td>2008.0</td>\n",
       "      <td>manuell</td>\n",
       "      <td>69.0</td>\n",
       "      <td>fabia</td>\n",
       "      <td>90000</td>\n",
       "      <td>7.0</td>\n",
       "      <td>diesel</td>\n",
       "      <td>skoda</td>\n",
       "      <td>nein</td>\n",
       "      <td>31-03-2016 00:00</td>\n",
       "      <td>0.0</td>\n",
       "      <td>60437.0</td>\n",
       "      <td>06-04-2016 10:17</td>\n",
       "    </tr>\n",
       "    <tr>\n",
       "      <th>5</th>\n",
       "      <td>04-04-2016 17:36</td>\n",
       "      <td>BMW_316i___e36_Limousine___Bastlerfahrzeug__Ex...</td>\n",
       "      <td>privat</td>\n",
       "      <td>Angebot</td>\n",
       "      <td>650.0</td>\n",
       "      <td>test</td>\n",
       "      <td>limousine</td>\n",
       "      <td>1995.0</td>\n",
       "      <td>manuell</td>\n",
       "      <td>102.0</td>\n",
       "      <td>3er</td>\n",
       "      <td>150000</td>\n",
       "      <td>10.0</td>\n",
       "      <td>benzin</td>\n",
       "      <td>bmw</td>\n",
       "      <td>ja</td>\n",
       "      <td>04-04-2016 00:00</td>\n",
       "      <td>0.0</td>\n",
       "      <td>33775.0</td>\n",
       "      <td>06-04-2016 19:17</td>\n",
       "    </tr>\n",
       "    <tr>\n",
       "      <th>6</th>\n",
       "      <td>01-04-2016 20:48</td>\n",
       "      <td>Peugeot_206_CC_110_Platinum</td>\n",
       "      <td>privat</td>\n",
       "      <td>Angebot</td>\n",
       "      <td>2200.0</td>\n",
       "      <td>test</td>\n",
       "      <td>cabrio</td>\n",
       "      <td>2004.0</td>\n",
       "      <td>manuell</td>\n",
       "      <td>109.0</td>\n",
       "      <td>2_reihe</td>\n",
       "      <td>150000</td>\n",
       "      <td>8.0</td>\n",
       "      <td>benzin</td>\n",
       "      <td>peugeot</td>\n",
       "      <td>nein</td>\n",
       "      <td>01-04-2016 00:00</td>\n",
       "      <td>0.0</td>\n",
       "      <td>67112.0</td>\n",
       "      <td>05-04-2016 18:18</td>\n",
       "    </tr>\n",
       "    <tr>\n",
       "      <th>7</th>\n",
       "      <td>21-03-2016 18:54</td>\n",
       "      <td>VW_Derby_Bj_80__Scheunenfund</td>\n",
       "      <td>privat</td>\n",
       "      <td>Angebot</td>\n",
       "      <td>0.0</td>\n",
       "      <td>test</td>\n",
       "      <td>limousine</td>\n",
       "      <td>1980.0</td>\n",
       "      <td>manuell</td>\n",
       "      <td>50.0</td>\n",
       "      <td>andere</td>\n",
       "      <td>40000</td>\n",
       "      <td>7.0</td>\n",
       "      <td>benzin</td>\n",
       "      <td>volkswagen</td>\n",
       "      <td>nein</td>\n",
       "      <td>21-03-2016 00:00</td>\n",
       "      <td>0.0</td>\n",
       "      <td>19348.0</td>\n",
       "      <td>25-03-2016 16:47</td>\n",
       "    </tr>\n",
       "    <tr>\n",
       "      <th>...</th>\n",
       "      <td>...</td>\n",
       "      <td>...</td>\n",
       "      <td>...</td>\n",
       "      <td>...</td>\n",
       "      <td>...</td>\n",
       "      <td>...</td>\n",
       "      <td>...</td>\n",
       "      <td>...</td>\n",
       "      <td>...</td>\n",
       "      <td>...</td>\n",
       "      <td>...</td>\n",
       "      <td>...</td>\n",
       "      <td>...</td>\n",
       "      <td>...</td>\n",
       "      <td>...</td>\n",
       "      <td>...</td>\n",
       "      <td>...</td>\n",
       "      <td>...</td>\n",
       "      <td>...</td>\n",
       "      <td>...</td>\n",
       "    </tr>\n",
       "    <tr>\n",
       "      <th>371532</th>\n",
       "      <td>19-03-2016 19:53</td>\n",
       "      <td>turbo_defekt</td>\n",
       "      <td>privat</td>\n",
       "      <td>Angebot</td>\n",
       "      <td>3200.0</td>\n",
       "      <td>control</td>\n",
       "      <td>limousine</td>\n",
       "      <td>2004.0</td>\n",
       "      <td>manuell</td>\n",
       "      <td>225.0</td>\n",
       "      <td>leon</td>\n",
       "      <td>150000</td>\n",
       "      <td>5.0</td>\n",
       "      <td>benzin</td>\n",
       "      <td>seat</td>\n",
       "      <td>ja</td>\n",
       "      <td>19-03-2016 00:00</td>\n",
       "      <td>0.0</td>\n",
       "      <td>96465.0</td>\n",
       "      <td>19-03-2016 20:44</td>\n",
       "    </tr>\n",
       "    <tr>\n",
       "      <th>371533</th>\n",
       "      <td>27-03-2016 20:36</td>\n",
       "      <td>Opel_Zafira_1.6_Elegance_TÜV_12/16</td>\n",
       "      <td>privat</td>\n",
       "      <td>Angebot</td>\n",
       "      <td>1150.0</td>\n",
       "      <td>control</td>\n",
       "      <td>bus</td>\n",
       "      <td>2000.0</td>\n",
       "      <td>manuell</td>\n",
       "      <td>0.0</td>\n",
       "      <td>zafira</td>\n",
       "      <td>150000</td>\n",
       "      <td>3.0</td>\n",
       "      <td>benzin</td>\n",
       "      <td>opel</td>\n",
       "      <td>nein</td>\n",
       "      <td>27-03-2016 00:00</td>\n",
       "      <td>0.0</td>\n",
       "      <td>26624.0</td>\n",
       "      <td>29-03-2016 10:17</td>\n",
       "    </tr>\n",
       "    <tr>\n",
       "      <th>371536</th>\n",
       "      <td>05-03-2016 19:56</td>\n",
       "      <td>Smart_smart_leistungssteigerung_100ps</td>\n",
       "      <td>privat</td>\n",
       "      <td>Angebot</td>\n",
       "      <td>1199.0</td>\n",
       "      <td>test</td>\n",
       "      <td>cabrio</td>\n",
       "      <td>2000.0</td>\n",
       "      <td>automatik</td>\n",
       "      <td>101.0</td>\n",
       "      <td>fortwo</td>\n",
       "      <td>125000</td>\n",
       "      <td>3.0</td>\n",
       "      <td>benzin</td>\n",
       "      <td>smart</td>\n",
       "      <td>nein</td>\n",
       "      <td>05-03-2016 00:00</td>\n",
       "      <td>0.0</td>\n",
       "      <td>26135.0</td>\n",
       "      <td>11-03-2016 18:17</td>\n",
       "    </tr>\n",
       "    <tr>\n",
       "      <th>371537</th>\n",
       "      <td>19-03-2016 18:57</td>\n",
       "      <td>Volkswagen_Multivan_T4_TDI_7DC_UY2</td>\n",
       "      <td>privat</td>\n",
       "      <td>Angebot</td>\n",
       "      <td>9200.0</td>\n",
       "      <td>test</td>\n",
       "      <td>bus</td>\n",
       "      <td>1996.0</td>\n",
       "      <td>manuell</td>\n",
       "      <td>102.0</td>\n",
       "      <td>transporter</td>\n",
       "      <td>150000</td>\n",
       "      <td>3.0</td>\n",
       "      <td>diesel</td>\n",
       "      <td>volkswagen</td>\n",
       "      <td>nein</td>\n",
       "      <td>19-03-2016 00:00</td>\n",
       "      <td>0.0</td>\n",
       "      <td>87439.0</td>\n",
       "      <td>07-04-2016 07:15</td>\n",
       "    </tr>\n",
       "    <tr>\n",
       "      <th>371539</th>\n",
       "      <td>07-03-2016 19:39</td>\n",
       "      <td>BMW_M135i_vollausgestattet_NP_52.720____Euro</td>\n",
       "      <td>privat</td>\n",
       "      <td>Angebot</td>\n",
       "      <td>28990.0</td>\n",
       "      <td>control</td>\n",
       "      <td>limousine</td>\n",
       "      <td>2013.0</td>\n",
       "      <td>manuell</td>\n",
       "      <td>320.0</td>\n",
       "      <td>m_reihe</td>\n",
       "      <td>50000</td>\n",
       "      <td>8.0</td>\n",
       "      <td>benzin</td>\n",
       "      <td>bmw</td>\n",
       "      <td>nein</td>\n",
       "      <td>07-03-2016 00:00</td>\n",
       "      <td>0.0</td>\n",
       "      <td>73326.0</td>\n",
       "      <td>22-03-2016 03:17</td>\n",
       "    </tr>\n",
       "  </tbody>\n",
       "</table>\n",
       "<p>253362 rows × 20 columns</p>\n",
       "</div>"
      ],
      "text/plain": [
       "             dateCrawled                                               name  \\\n",
       "3       17-03-2016 16:54                                 GOLF_4_1_4__3TÜRER   \n",
       "4       31-03-2016 17:25                     Skoda_Fabia_1.4_TDI_PD_Classic   \n",
       "5       04-04-2016 17:36  BMW_316i___e36_Limousine___Bastlerfahrzeug__Ex...   \n",
       "6       01-04-2016 20:48                        Peugeot_206_CC_110_Platinum   \n",
       "7       21-03-2016 18:54                       VW_Derby_Bj_80__Scheunenfund   \n",
       "...                  ...                                                ...   \n",
       "371532  19-03-2016 19:53                                       turbo_defekt   \n",
       "371533  27-03-2016 20:36                 Opel_Zafira_1.6_Elegance_TÜV_12/16   \n",
       "371536  05-03-2016 19:56              Smart_smart_leistungssteigerung_100ps   \n",
       "371537  19-03-2016 18:57                 Volkswagen_Multivan_T4_TDI_7DC_UY2   \n",
       "371539  07-03-2016 19:39       BMW_M135i_vollausgestattet_NP_52.720____Euro   \n",
       "\n",
       "        seller offerType    price   abtest vehicleType  yearOfRegistration  \\\n",
       "3       privat   Angebot   1500.0     test  kleinwagen              2001.0   \n",
       "4       privat   Angebot   3600.0     test  kleinwagen              2008.0   \n",
       "5       privat   Angebot    650.0     test   limousine              1995.0   \n",
       "6       privat   Angebot   2200.0     test      cabrio              2004.0   \n",
       "7       privat   Angebot      0.0     test   limousine              1980.0   \n",
       "...        ...       ...      ...      ...         ...                 ...   \n",
       "371532  privat   Angebot   3200.0  control   limousine              2004.0   \n",
       "371533  privat   Angebot   1150.0  control         bus              2000.0   \n",
       "371536  privat   Angebot   1199.0     test      cabrio              2000.0   \n",
       "371537  privat   Angebot   9200.0     test         bus              1996.0   \n",
       "371539  privat   Angebot  28990.0  control   limousine              2013.0   \n",
       "\n",
       "          gearbox  powerPS        model kilometer  monthOfRegistration  \\\n",
       "3         manuell     75.0         golf    150000                  6.0   \n",
       "4         manuell     69.0        fabia     90000                  7.0   \n",
       "5         manuell    102.0          3er    150000                 10.0   \n",
       "6         manuell    109.0      2_reihe    150000                  8.0   \n",
       "7         manuell     50.0       andere     40000                  7.0   \n",
       "...           ...      ...          ...       ...                  ...   \n",
       "371532    manuell    225.0         leon    150000                  5.0   \n",
       "371533    manuell      0.0       zafira    150000                  3.0   \n",
       "371536  automatik    101.0       fortwo    125000                  3.0   \n",
       "371537    manuell    102.0  transporter    150000                  3.0   \n",
       "371539    manuell    320.0      m_reihe     50000                  8.0   \n",
       "\n",
       "       fuelType       brand notRepairedDamage       dateCreated  nrOfPictures  \\\n",
       "3        benzin  volkswagen              nein  17-03-2016 00:00           0.0   \n",
       "4        diesel       skoda              nein  31-03-2016 00:00           0.0   \n",
       "5        benzin         bmw                ja  04-04-2016 00:00           0.0   \n",
       "6        benzin     peugeot              nein  01-04-2016 00:00           0.0   \n",
       "7        benzin  volkswagen              nein  21-03-2016 00:00           0.0   \n",
       "...         ...         ...               ...               ...           ...   \n",
       "371532   benzin        seat                ja  19-03-2016 00:00           0.0   \n",
       "371533   benzin        opel              nein  27-03-2016 00:00           0.0   \n",
       "371536   benzin       smart              nein  05-03-2016 00:00           0.0   \n",
       "371537   diesel  volkswagen              nein  19-03-2016 00:00           0.0   \n",
       "371539   benzin         bmw              nein  07-03-2016 00:00           0.0   \n",
       "\n",
       "        postalCode          lastSeen  \n",
       "3          91074.0  17-03-2016 17:40  \n",
       "4          60437.0  06-04-2016 10:17  \n",
       "5          33775.0  06-04-2016 19:17  \n",
       "6          67112.0  05-04-2016 18:18  \n",
       "7          19348.0  25-03-2016 16:47  \n",
       "...            ...               ...  \n",
       "371532     96465.0  19-03-2016 20:44  \n",
       "371533     26624.0  29-03-2016 10:17  \n",
       "371536     26135.0  11-03-2016 18:17  \n",
       "371537     87439.0  07-04-2016 07:15  \n",
       "371539     73326.0  22-03-2016 03:17  \n",
       "\n",
       "[253362 rows x 20 columns]"
      ]
     },
     "execution_count": 15,
     "metadata": {},
     "output_type": "execute_result"
    }
   ],
   "source": [
    "df"
   ]
  },
  {
   "cell_type": "markdown",
   "id": "6dc78970",
   "metadata": {},
   "source": [
    "### Visualize the count of various columns"
   ]
  },
  {
   "cell_type": "code",
   "execution_count": 16,
   "id": "dddbd4d3",
   "metadata": {},
   "outputs": [],
   "source": [
    "import matplotlib.pyplot as plt"
   ]
  },
  {
   "cell_type": "code",
   "execution_count": 17,
   "id": "d0b8f0a9",
   "metadata": {},
   "outputs": [
    {
     "data": {
      "text/plain": [
       "array(['kleinwagen', 'limousine', 'cabrio', 'kombi', 'suv', 'bus',\n",
       "       'coupe', 'andere'], dtype=object)"
      ]
     },
     "execution_count": 17,
     "metadata": {},
     "output_type": "execute_result"
    }
   ],
   "source": [
    "df.vehicleType.unique()"
   ]
  },
  {
   "cell_type": "code",
   "execution_count": 18,
   "id": "c8dc1cab",
   "metadata": {},
   "outputs": [],
   "source": [
    "vehicleTypeCount = df.vehicleType.value_counts()"
   ]
  },
  {
   "cell_type": "code",
   "execution_count": 19,
   "id": "3deb51f0",
   "metadata": {},
   "outputs": [
    {
     "data": {
      "image/png": "[encoded data removed]",
      "text/plain": [
       "<Figure size 1000x500 with 1 Axes>"
      ]
     },
     "metadata": {},
     "output_type": "display_data"
    }
   ],
   "source": [
    "plt.figure(figsize = (10,5))\n",
    "plt.bar(vehicleTypeCount.index, vehicleTypeCount)\n",
    "plt.show()"
   ]
  },
  {
   "cell_type": "code",
   "execution_count": 20,
   "id": "23ec4733",
   "metadata": {},
   "outputs": [
    {
     "data": {
      "text/plain": [
       "pandas.core.series.Series"
      ]
     },
     "execution_count": 20,
     "metadata": {},
     "output_type": "execute_result"
    }
   ],
   "source": [
    "years = df.yearOfRegistration.value_counts()\n",
    "type(years)"
   ]
  },
  {
   "cell_type": "markdown",
   "id": "98a751f4",
   "metadata": {},
   "source": [
    "### To find the year with the highest and lowest frequency"
   ]
  },
  {
   "cell_type": "code",
   "execution_count": 21,
   "id": "98f5b35e",
   "metadata": {},
   "outputs": [
    {
     "name": "stdout",
     "output_type": "stream",
     "text": [
      "1 1949.0\n"
     ]
    }
   ],
   "source": [
    "print(years.min(),years.idxmin())"
   ]
  },
  {
   "cell_type": "code",
   "execution_count": 22,
   "id": "beeb0c66",
   "metadata": {},
   "outputs": [],
   "source": [
    "brands = df.brand.value_counts()"
   ]
  },
  {
   "cell_type": "code",
   "execution_count": 23,
   "id": "e935747e",
   "metadata": {},
   "outputs": [
    {
     "name": "stdout",
     "output_type": "stream",
     "text": [
      "16583 2006.0\n"
     ]
    }
   ],
   "source": [
    "print(years.max(),years.idxmax())"
   ]
  },
  {
   "cell_type": "markdown",
   "id": "5672224a",
   "metadata": {},
   "source": [
    "### Frequency of automobile brands"
   ]
  },
  {
   "cell_type": "code",
   "execution_count": 24,
   "id": "f0db8b80",
   "metadata": {},
   "outputs": [
    {
     "data": {
      "text/plain": [
       "volkswagen       52377\n",
       "bmw              29573\n",
       "mercedes_benz    26363\n",
       "opel             25311\n",
       "audi             24208\n",
       "ford             16805\n",
       "renault          11212\n",
       "peugeot           7631\n",
       "fiat              6138\n",
       "seat              4888\n",
       "skoda             4482\n",
       "mazda             3901\n",
       "toyota            3637\n",
       "citroen           3618\n",
       "nissan            3507\n",
       "smart             3277\n",
       "mini              2856\n",
       "hyundai           2743\n",
       "volvo             2507\n",
       "mitsubishi        2003\n",
       "kia               1939\n",
       "honda             1879\n",
       "porsche           1851\n",
       "alfa_romeo        1644\n",
       "suzuki            1639\n",
       "chevrolet         1300\n",
       "chrysler           996\n",
       "dacia              717\n",
       "land_rover         629\n",
       "jeep               602\n",
       "subaru             526\n",
       "daihatsu           499\n",
       "jaguar             484\n",
       "saab               408\n",
       "daewoo             327\n",
       "lancia             309\n",
       "rover              255\n",
       "trabant            182\n",
       "lada               139\n",
       "Name: brand, dtype: int64"
      ]
     },
     "execution_count": 24,
     "metadata": {},
     "output_type": "execute_result"
    }
   ],
   "source": [
    "brands"
   ]
  },
  {
   "cell_type": "code",
   "execution_count": 25,
   "id": "9377892d",
   "metadata": {},
   "outputs": [],
   "source": [
    "models = df.model.value_counts()"
   ]
  },
  {
   "cell_type": "code",
   "execution_count": 26,
   "id": "422bf57d",
   "metadata": {},
   "outputs": [
    {
     "data": {
      "image/png": "[encoded data removed]",
      "text/plain": [
       "<Figure size 1200x800 with 1 Axes>"
      ]
     },
     "metadata": {},
     "output_type": "display_data"
    }
   ],
   "source": [
    "import seaborn as sns\n",
    "plt.figure(figsize=(12,8))\n",
    "plt.xticks(rotation=90)\n",
    "sns.barplot(x = brands.index, y = brands)\n",
    "plt.show()"
   ]
  },
  {
   "cell_type": "markdown",
   "id": "d32a330e",
   "metadata": {},
   "source": [
    "### Top 10 frequently sold models"
   ]
  },
  {
   "cell_type": "code",
   "execution_count": 27,
   "id": "501a1f2f",
   "metadata": {},
   "outputs": [],
   "source": [
    "models= models[:10]"
   ]
  },
  {
   "cell_type": "code",
   "execution_count": 28,
   "id": "da232bad",
   "metadata": {},
   "outputs": [
    {
     "data": {
      "image/png": "[encoded data removed]",
      "text/plain": [
       "<Figure size 1000x400 with 1 Axes>"
      ]
     },
     "metadata": {},
     "output_type": "display_data"
    }
   ],
   "source": [
    "plt.figure(figsize=(10,4))\n",
    "sns.barplot(y = models.index, x = models, orient = 'h')\n",
    "plt.show()"
   ]
  },
  {
   "cell_type": "markdown",
   "id": "a632f735",
   "metadata": {},
   "source": [
    "### The month with highest number of cars registered"
   ]
  },
  {
   "cell_type": "code",
   "execution_count": 29,
   "id": "367f523f",
   "metadata": {},
   "outputs": [],
   "source": [
    "months = df.monthOfRegistration.value_counts()"
   ]
  },
  {
   "cell_type": "code",
   "execution_count": 30,
   "id": "562afb85",
   "metadata": {},
   "outputs": [
    {
     "data": {
      "text/plain": [
       "3.0     28159\n",
       "6.0     24851\n",
       "4.0     23475\n",
       "5.0     22933\n",
       "7.0     21737\n",
       "10.0    20803\n",
       "9.0     19293\n",
       "11.0    19258\n",
       "12.0    19095\n",
       "1.0     18582\n",
       "8.0     17925\n",
       "2.0     17251\n",
       "Name: monthOfRegistration, dtype: int64"
      ]
     },
     "execution_count": 30,
     "metadata": {},
     "output_type": "execute_result"
    }
   ],
   "source": [
    "months"
   ]
  },
  {
   "cell_type": "code",
   "execution_count": 31,
   "id": "5ef53df6",
   "metadata": {},
   "outputs": [
    {
     "data": {
      "image/png": "[encoded data removed]",
      "text/plain": [
       "<Figure size 1000x400 with 1 Axes>"
      ]
     },
     "metadata": {},
     "output_type": "display_data"
    }
   ],
   "source": [
    "plt.figure(figsize=(10,4))\n",
    "sns.barplot(x = months.index, y = months)\n",
    "plt.xlabel('Months')\n",
    "plt.ylabel('Number of Registrations')\n",
    "plt.show()"
   ]
  },
  {
   "cell_type": "markdown",
   "id": "eb96a722",
   "metadata": {},
   "source": [
    "### Most used fuel"
   ]
  },
  {
   "cell_type": "code",
   "execution_count": 32,
   "id": "1bcb58df",
   "metadata": {},
   "outputs": [],
   "source": [
    "fuels = df.fuelType.value_counts()"
   ]
  },
  {
   "cell_type": "code",
   "execution_count": 33,
   "id": "6bc04817",
   "metadata": {},
   "outputs": [
    {
     "data": {
      "text/plain": [
       "benzin     163258\n",
       "diesel      85514\n",
       "lpg          3802\n",
       "cng           454\n",
       "hybrid        213\n",
       "andere         67\n",
       "elektro        54\n",
       "Name: fuelType, dtype: int64"
      ]
     },
     "execution_count": 33,
     "metadata": {},
     "output_type": "execute_result"
    }
   ],
   "source": [
    "fuels"
   ]
  },
  {
   "cell_type": "code",
   "execution_count": 34,
   "id": "2c166195",
   "metadata": {},
   "outputs": [],
   "source": [
    "fuels = fuels[:3]"
   ]
  },
  {
   "cell_type": "code",
   "execution_count": 35,
   "id": "c4937b2f",
   "metadata": {},
   "outputs": [
    {
     "data": {
      "image/png": "[encoded data removed]",
      "text/plain": [
       "<Figure size 640x480 with 1 Axes>"
      ]
     },
     "metadata": {},
     "output_type": "display_data"
    }
   ],
   "source": [
    "plt.pie(fuels, labels = fuels.index)\n",
    "plt.show()"
   ]
  },
  {
   "cell_type": "code",
   "execution_count": 36,
   "id": "e69fb264",
   "metadata": {},
   "outputs": [],
   "source": [
    "x = df.groupby('vehicleType')['price'].sum()"
   ]
  },
  {
   "cell_type": "code",
   "execution_count": 37,
   "id": "f91ba5e8",
   "metadata": {},
   "outputs": [
    {
     "data": {
      "text/plain": [
       "vehicleType\n",
       "andere          7406047.0\n",
       "bus           184472373.0\n",
       "cabrio        205869702.0\n",
       "coupe         307684430.0\n",
       "kleinwagen    181057727.0\n",
       "kombi         437590603.0\n",
       "limousine     617857858.0\n",
       "suv           166706283.0\n",
       "Name: price, dtype: float64"
      ]
     },
     "execution_count": 37,
     "metadata": {},
     "output_type": "execute_result"
    }
   ],
   "source": [
    "x"
   ]
  },
  {
   "cell_type": "code",
   "execution_count": 38,
   "id": "cdfc9f45",
   "metadata": {},
   "outputs": [
    {
     "data": {
      "text/plain": [
       "99999999.0"
      ]
     },
     "execution_count": 38,
     "metadata": {},
     "output_type": "execute_result"
    }
   ],
   "source": [
    "a= df['price']\n",
    "a.max()"
   ]
  },
  {
   "cell_type": "code",
   "execution_count": 39,
   "id": "5a6c101b",
   "metadata": {},
   "outputs": [],
   "source": [
    "df['kilometer'] = df['kilometer'].astype(int)\n",
    "b = df['kilometer']"
   ]
  },
  {
   "cell_type": "markdown",
   "id": "8a0b43f5",
   "metadata": {},
   "source": [
    "The correlation between price and kilometer is negative. This indicates that with increase in the number of kilometers, the price of the vehicle decreases."
   ]
  },
  {
   "cell_type": "code",
   "execution_count": 40,
   "id": "3ef2b0ee",
   "metadata": {},
   "outputs": [
    {
     "data": {
      "text/plain": [
       "-0.014041886274782863"
      ]
     },
     "execution_count": 40,
     "metadata": {},
     "output_type": "execute_result"
    }
   ],
   "source": [
    "a.corr(b)"
   ]
  },
  {
   "cell_type": "code",
   "execution_count": 41,
   "id": "5866a069",
   "metadata": {},
   "outputs": [],
   "source": [
    "df['yearOfRegistration'] = df['yearOfRegistration'].astype(int)\n",
    "c = df['yearOfRegistration']"
   ]
  },
  {
   "cell_type": "markdown",
   "id": "621c825c",
   "metadata": {},
   "source": [
    "The correlation between price and yearOfRegistration is positive. This indicates that later the year of registration more is the price."
   ]
  },
  {
   "cell_type": "code",
   "execution_count": 45,
   "id": "e3399053",
   "metadata": {},
   "outputs": [
    {
     "data": {
      "text/plain": [
       "0.010370231217592436"
      ]
     },
     "execution_count": 45,
     "metadata": {},
     "output_type": "execute_result"
    }
   ],
   "source": [
    "a.corr(c)"
   ]
  },
  {
   "cell_type": "code",
   "execution_count": 49,
   "id": "2ccaff6f",
   "metadata": {},
   "outputs": [
    {
     "data": {
      "image/png": "[encoded data removed]",
      "text/plain": [
       "<Figure size 640x480 with 1 Axes>"
      ]
     },
     "metadata": {},
     "output_type": "display_data"
    }
   ],
   "source": [
    "gear = df.gearbox.value_counts()\n",
    "plt.pie(gear, labels = gear.index)\n",
    "plt.show()"
   ]
  },
  {
   "cell_type": "markdown",
   "id": "b17a3ff1",
   "metadata": {},
   "source": [
    "## Justification of selection of  features"
   ]
  },
  {
   "cell_type": "markdown",
   "id": "b5ce0403",
   "metadata": {},
   "source": [
    "The features selected must be able to predict the price of the vehicle."
   ]
  },
  {
   "cell_type": "markdown",
   "id": "9387a23e",
   "metadata": {},
   "source": [
    "The features selected are \n",
    "1. _Vehicle Type_ <br>\n",
    "From observation we can see that some vehicle types are more popular than others. Popular vehicle types usually have a higher price.\n",
    "\n",
    "2. _Year of Registration_ <br>\n",
    "Correlating the year of registration to the price, we see that it has a positive coefficient. The more recent the vehicle is, higher is the price.\n",
    " \n",
    "3. _Gearbox_ <br>\n",
    "From observation, we see that more people prefer manual over automatic. Therefore manual models are priced higher than automatic due to popularity.\n",
    "\n",
    "4. _Model_ <br>\n",
    "From observation we can see that some models are more popular than others. Popular models usually have a higher price.\n",
    "\n",
    "5. _Fuel Type_ <br>\n",
    "From observation, benzin is the most commonly used fuel. Therefore the price of benzin powered vehicles might be lesser than the rest. We can predict the price based on the fuel type.\n",
    "\n",
    "6. _Brand_ <br>\n",
    "Some brands are more popular than others and will increase the price consequently.\n",
    "\n",
    "7. _Last seen_<br>\n",
    "Vehicles that have a recent 'lastSeen' date have a greater chance of being sold and can be used to predict the price."
   ]
  },
  {
   "cell_type": "markdown",
   "id": "02bb9788",
   "metadata": {},
   "source": [
    "### Potential challenges or limitations"
   ]
  },
  {
   "cell_type": "markdown",
   "id": "135e6c2f",
   "metadata": {},
   "source": [
    "### 1. Missing or incomplete data\n",
    "Missing or incomplete data affects the accuracy of the model. Important metrics such as average/mean, max, min may become faulty. This challenge can be overcome by \n",
    "1. Deleting the entire row where the data is missing\n",
    "2. The mean of the column becomes the value.(Mode or median can also be used)\n",
    "3. The data is changed to zero.\n",
    "\n",
    "<br>There are other techniques that can solve this problem like k-nearest neighbours."
   ]
  },
  {
   "cell_type": "markdown",
   "id": "8b7885a0",
   "metadata": {},
   "source": [
    "### 2. Outliers\n",
    "These data are drastically different from the rest of the data. They affect the aaccuracy and working of the model. Metrics such as mean,median,mode will be influenced.\n",
    "<br>These data are usually due to a fault in data collection.\n",
    "They can be visualized through scatter plots"
   ]
  },
  {
   "cell_type": "code",
   "execution_count": 52,
   "id": "49f05800",
   "metadata": {},
   "outputs": [
    {
     "data": {
      "image/png": "[encoded data removed]",
      "text/plain": [
       "<Figure size 640x480 with 1 Axes>"
      ]
     },
     "metadata": {},
     "output_type": "display_data"
    }
   ],
   "source": [
    "sns.scatterplot(x='yearOfRegistration', y='price', data=df)\n",
    "plt.xlabel(\"yearOfRegistration\")\n",
    "plt.ylabel(\"Price\");"
   ]
  },
  {
   "cell_type": "markdown",
   "id": "5bfa4575",
   "metadata": {},
   "source": [
    "### Model that would be able to best fit the features.\n"
   ]
  },
  {
   "cell_type": "markdown",
   "id": "7cd1f90a",
   "metadata": {},
   "source": [
    "Some of the machine learning models are<br>\n",
    "1. Classification models <br>\n",
    "For the given problem statement, we cannot use classification model as they are used to predict the class of a given input such as filtering a message as spam.<br> <br>\n",
    "2. Clustering models<br>\n",
    "Clustering is often used for data that is not labelled.Here we have a specific outcome to predictn and hence cannot be used.<br><br>\n",
    "3. <b>Regression models</b><br>\n",
    "Based on the inputs we have and the problem statement to predict the price of the used car, we can use a regression model.\n",
    "Regression models use relationships between variables from the training set to predict the prices of the testing set.\n",
    "<br>\n",
    "In regression learning we can use linear regresion model. It forms a linear relationship between the selected features and price of the car. We can assess the accuracy using techniques such as mean squared error (MSE) and root mean squared error (RMSE)."
   ]
  },
  {
   "cell_type": "code",
   "execution_count": null,
   "id": "1434d2b6",
   "metadata": {},
   "outputs": [],
   "source": []
  }
 ],
 "metadata": {
  "kernelspec": {
   "display_name": "Python 3 (ipykernel)",
   "language": "python",
   "name": "python3"
  },
  "language_info": {
   "codemirror_mode": {
    "name": "ipython",
    "version": 3
   },
   "file_extension": ".py",
   "mimetype": "text/x-python",
   "name": "python",
   "nbconvert_exporter": "python",
   "pygments_lexer": "ipython3",
   "version": "3.10.9"
  }
 },
 "nbformat": 4,
 "nbformat_minor": 5
}
