{
 "cells": [
  {
   "cell_type": "markdown",
   "id": "da5b3f6a",
   "metadata": {},
   "source": [
    "# Question 2"
   ]
  },
  {
   "cell_type": "markdown",
   "id": "1dffdfae",
   "metadata": {},
   "source": [
    "To load the dataset we use pandas package. "
   ]
  },
  {
   "cell_type": "code",
   "execution_count": 1,
   "id": "2b4fc159",
   "metadata": {},
   "outputs": [],
   "source": [
    "import pandas as pd"
   ]
  },
  {
   "cell_type": "markdown",
   "id": "8470638f",
   "metadata": {},
   "source": [
    "To read the file we use read_csv function. We get the warning because when pandas reads the file, it does not determine the data type of the column till the whole file is read."
   ]
  },
  {
   "cell_type": "code",
   "execution_count": 2,
   "id": "4f07a7b6",
   "metadata": {},
   "outputs": [
    {
     "name": "stderr",
     "output_type": "stream",
     "text": [
      "C:\\Users\\Sanjana\\AppData\\Local\\Temp\\ipykernel_44620\\1972864735.py:1: DtypeWarning: Columns (11) have mixed types. Specify dtype option on import or set low_memory=False.\n",
      "  pd.read_csv('autos.csv')\n"
     ]
    },
    {
     "data": {
      "text/html": [
       "<div>\n",
       "<style scoped>\n",
       "    .dataframe tbody tr th:only-of-type {\n",
       "        vertical-align: middle;\n",
       "    }\n",
       "\n",
       "    .dataframe tbody tr th {\n",
       "        vertical-align: top;\n",
       "    }\n",
       "\n",
       "    .dataframe thead th {\n",
       "        text-align: right;\n",
       "    }\n",
       "</style>\n",
       "<table border=\"1\" class=\"dataframe\">\n",
       "  <thead>\n",
       "    <tr style=\"text-align: right;\">\n",
       "      <th></th>\n",
       "      <th>dateCrawled</th>\n",
       "      <th>name</th>\n",
       "      <th>seller</th>\n",
       "      <th>offerType</th>\n",
       "      <th>price</th>\n",
       "      <th>abtest</th>\n",
       "      <th>vehicleType</th>\n",
       "      <th>yearOfRegistration</th>\n",
       "      <th>gearbox</th>\n",
       "      <th>powerPS</th>\n",
       "      <th>model</th>\n",
       "      <th>kilometer</th>\n",
       "      <th>monthOfRegistration</th>\n",
       "      <th>fuelType</th>\n",
       "      <th>brand</th>\n",
       "      <th>notRepairedDamage</th>\n",
       "      <th>dateCreated</th>\n",
       "      <th>nrOfPictures</th>\n",
       "      <th>postalCode</th>\n",
       "      <th>lastSeen</th>\n",
       "    </tr>\n",
       "  </thead>\n",
       "  <tbody>\n",
       "    <tr>\n",
       "      <th>0</th>\n",
       "      <td>24-03-2016 11:52</td>\n",
       "      <td>Golf_3_1.6</td>\n",
       "      <td>privat</td>\n",
       "      <td>Angebot</td>\n",
       "      <td>480.0</td>\n",
       "      <td>test</td>\n",
       "      <td>NaN</td>\n",
       "      <td>1993.0</td>\n",
       "      <td>manuell</td>\n",
       "      <td>0.0</td>\n",
       "      <td>golf</td>\n",
       "      <td>150000</td>\n",
       "      <td>0.0</td>\n",
       "      <td>benzin</td>\n",
       "      <td>volkswagen</td>\n",
       "      <td>NaN</td>\n",
       "      <td>24-03-2016 00:00</td>\n",
       "      <td>0.0</td>\n",
       "      <td>70435.0</td>\n",
       "      <td>07-04-2016 03:16</td>\n",
       "    </tr>\n",
       "    <tr>\n",
       "      <th>1</th>\n",
       "      <td>24-03-2016 10:58</td>\n",
       "      <td>A5_Sportback_2.7_Tdi</td>\n",
       "      <td>privat</td>\n",
       "      <td>Angebot</td>\n",
       "      <td>18300.0</td>\n",
       "      <td>test</td>\n",
       "      <td>coupe</td>\n",
       "      <td>2011.0</td>\n",
       "      <td>manuell</td>\n",
       "      <td>190.0</td>\n",
       "      <td>NaN</td>\n",
       "      <td>125000</td>\n",
       "      <td>5.0</td>\n",
       "      <td>diesel</td>\n",
       "      <td>audi</td>\n",
       "      <td>ja</td>\n",
       "      <td>24-03-2016 00:00</td>\n",
       "      <td>0.0</td>\n",
       "      <td>66954.0</td>\n",
       "      <td>07-04-2016 01:46</td>\n",
       "    </tr>\n",
       "    <tr>\n",
       "      <th>2</th>\n",
       "      <td>14-03-2016 12:52</td>\n",
       "      <td>Jeep_Grand_Cherokee_\"Overland\"</td>\n",
       "      <td>privat</td>\n",
       "      <td>Angebot</td>\n",
       "      <td>9800.0</td>\n",
       "      <td>test</td>\n",
       "      <td>suv</td>\n",
       "      <td>2004.0</td>\n",
       "      <td>automatik</td>\n",
       "      <td>163.0</td>\n",
       "      <td>grand</td>\n",
       "      <td>125000</td>\n",
       "      <td>8.0</td>\n",
       "      <td>diesel</td>\n",
       "      <td>jeep</td>\n",
       "      <td>NaN</td>\n",
       "      <td>14-03-2016 00:00</td>\n",
       "      <td>0.0</td>\n",
       "      <td>90480.0</td>\n",
       "      <td>05-04-2016 12:47</td>\n",
       "    </tr>\n",
       "    <tr>\n",
       "      <th>3</th>\n",
       "      <td>17-03-2016 16:54</td>\n",
       "      <td>GOLF_4_1_4__3TÜRER</td>\n",
       "      <td>privat</td>\n",
       "      <td>Angebot</td>\n",
       "      <td>1500.0</td>\n",
       "      <td>test</td>\n",
       "      <td>kleinwagen</td>\n",
       "      <td>2001.0</td>\n",
       "      <td>manuell</td>\n",
       "      <td>75.0</td>\n",
       "      <td>golf</td>\n",
       "      <td>150000</td>\n",
       "      <td>6.0</td>\n",
       "      <td>benzin</td>\n",
       "      <td>volkswagen</td>\n",
       "      <td>nein</td>\n",
       "      <td>17-03-2016 00:00</td>\n",
       "      <td>0.0</td>\n",
       "      <td>91074.0</td>\n",
       "      <td>17-03-2016 17:40</td>\n",
       "    </tr>\n",
       "    <tr>\n",
       "      <th>4</th>\n",
       "      <td>31-03-2016 17:25</td>\n",
       "      <td>Skoda_Fabia_1.4_TDI_PD_Classic</td>\n",
       "      <td>privat</td>\n",
       "      <td>Angebot</td>\n",
       "      <td>3600.0</td>\n",
       "      <td>test</td>\n",
       "      <td>kleinwagen</td>\n",
       "      <td>2008.0</td>\n",
       "      <td>manuell</td>\n",
       "      <td>69.0</td>\n",
       "      <td>fabia</td>\n",
       "      <td>90000</td>\n",
       "      <td>7.0</td>\n",
       "      <td>diesel</td>\n",
       "      <td>skoda</td>\n",
       "      <td>nein</td>\n",
       "      <td>31-03-2016 00:00</td>\n",
       "      <td>0.0</td>\n",
       "      <td>60437.0</td>\n",
       "      <td>06-04-2016 10:17</td>\n",
       "    </tr>\n",
       "    <tr>\n",
       "      <th>...</th>\n",
       "      <td>...</td>\n",
       "      <td>...</td>\n",
       "      <td>...</td>\n",
       "      <td>...</td>\n",
       "      <td>...</td>\n",
       "      <td>...</td>\n",
       "      <td>...</td>\n",
       "      <td>...</td>\n",
       "      <td>...</td>\n",
       "      <td>...</td>\n",
       "      <td>...</td>\n",
       "      <td>...</td>\n",
       "      <td>...</td>\n",
       "      <td>...</td>\n",
       "      <td>...</td>\n",
       "      <td>...</td>\n",
       "      <td>...</td>\n",
       "      <td>...</td>\n",
       "      <td>...</td>\n",
       "      <td>...</td>\n",
       "    </tr>\n",
       "    <tr>\n",
       "      <th>371535</th>\n",
       "      <td>14-03-2016 17:48</td>\n",
       "      <td>Suche_t4___vito_ab_6_sitze</td>\n",
       "      <td>privat</td>\n",
       "      <td>Angebot</td>\n",
       "      <td>2200.0</td>\n",
       "      <td>test</td>\n",
       "      <td>NaN</td>\n",
       "      <td>2005.0</td>\n",
       "      <td>NaN</td>\n",
       "      <td>0.0</td>\n",
       "      <td>NaN</td>\n",
       "      <td>20000</td>\n",
       "      <td>1.0</td>\n",
       "      <td>NaN</td>\n",
       "      <td>sonstige_autos</td>\n",
       "      <td>NaN</td>\n",
       "      <td>14-03-2016 00:00</td>\n",
       "      <td>0.0</td>\n",
       "      <td>39576.0</td>\n",
       "      <td>06-04-2016 00:46</td>\n",
       "    </tr>\n",
       "    <tr>\n",
       "      <th>371536</th>\n",
       "      <td>05-03-2016 19:56</td>\n",
       "      <td>Smart_smart_leistungssteigerung_100ps</td>\n",
       "      <td>privat</td>\n",
       "      <td>Angebot</td>\n",
       "      <td>1199.0</td>\n",
       "      <td>test</td>\n",
       "      <td>cabrio</td>\n",
       "      <td>2000.0</td>\n",
       "      <td>automatik</td>\n",
       "      <td>101.0</td>\n",
       "      <td>fortwo</td>\n",
       "      <td>125000</td>\n",
       "      <td>3.0</td>\n",
       "      <td>benzin</td>\n",
       "      <td>smart</td>\n",
       "      <td>nein</td>\n",
       "      <td>05-03-2016 00:00</td>\n",
       "      <td>0.0</td>\n",
       "      <td>26135.0</td>\n",
       "      <td>11-03-2016 18:17</td>\n",
       "    </tr>\n",
       "    <tr>\n",
       "      <th>371537</th>\n",
       "      <td>19-03-2016 18:57</td>\n",
       "      <td>Volkswagen_Multivan_T4_TDI_7DC_UY2</td>\n",
       "      <td>privat</td>\n",
       "      <td>Angebot</td>\n",
       "      <td>9200.0</td>\n",
       "      <td>test</td>\n",
       "      <td>bus</td>\n",
       "      <td>1996.0</td>\n",
       "      <td>manuell</td>\n",
       "      <td>102.0</td>\n",
       "      <td>transporter</td>\n",
       "      <td>150000</td>\n",
       "      <td>3.0</td>\n",
       "      <td>diesel</td>\n",
       "      <td>volkswagen</td>\n",
       "      <td>nein</td>\n",
       "      <td>19-03-2016 00:00</td>\n",
       "      <td>0.0</td>\n",
       "      <td>87439.0</td>\n",
       "      <td>07-04-2016 07:15</td>\n",
       "    </tr>\n",
       "    <tr>\n",
       "      <th>371538</th>\n",
       "      <td>20-03-2016 19:41</td>\n",
       "      <td>VW_Golf_Kombi_1_9l_TDI</td>\n",
       "      <td>privat</td>\n",
       "      <td>Angebot</td>\n",
       "      <td>3400.0</td>\n",
       "      <td>test</td>\n",
       "      <td>kombi</td>\n",
       "      <td>2002.0</td>\n",
       "      <td>manuell</td>\n",
       "      <td>100.0</td>\n",
       "      <td>golf</td>\n",
       "      <td>150000</td>\n",
       "      <td>6.0</td>\n",
       "      <td>diesel</td>\n",
       "      <td>volkswagen</td>\n",
       "      <td>NaN</td>\n",
       "      <td>20-03-2016 00:00</td>\n",
       "      <td>0.0</td>\n",
       "      <td>40764.0</td>\n",
       "      <td>24-03-2016 12:45</td>\n",
       "    </tr>\n",
       "    <tr>\n",
       "      <th>371539</th>\n",
       "      <td>07-03-2016 19:39</td>\n",
       "      <td>BMW_M135i_vollausgestattet_NP_52.720____Euro</td>\n",
       "      <td>privat</td>\n",
       "      <td>Angebot</td>\n",
       "      <td>28990.0</td>\n",
       "      <td>control</td>\n",
       "      <td>limousine</td>\n",
       "      <td>2013.0</td>\n",
       "      <td>manuell</td>\n",
       "      <td>320.0</td>\n",
       "      <td>m_reihe</td>\n",
       "      <td>50000</td>\n",
       "      <td>8.0</td>\n",
       "      <td>benzin</td>\n",
       "      <td>bmw</td>\n",
       "      <td>nein</td>\n",
       "      <td>07-03-2016 00:00</td>\n",
       "      <td>0.0</td>\n",
       "      <td>73326.0</td>\n",
       "      <td>22-03-2016 03:17</td>\n",
       "    </tr>\n",
       "  </tbody>\n",
       "</table>\n",
       "<p>371540 rows × 20 columns</p>\n",
       "</div>"
      ],
      "text/plain": [
       "             dateCrawled                                          name  \\\n",
       "0       24-03-2016 11:52                                    Golf_3_1.6   \n",
       "1       24-03-2016 10:58                          A5_Sportback_2.7_Tdi   \n",
       "2       14-03-2016 12:52                Jeep_Grand_Cherokee_\"Overland\"   \n",
       "3       17-03-2016 16:54                            GOLF_4_1_4__3TÜRER   \n",
       "4       31-03-2016 17:25                Skoda_Fabia_1.4_TDI_PD_Classic   \n",
       "...                  ...                                           ...   \n",
       "371535  14-03-2016 17:48                    Suche_t4___vito_ab_6_sitze   \n",
       "371536  05-03-2016 19:56         Smart_smart_leistungssteigerung_100ps   \n",
       "371537  19-03-2016 18:57            Volkswagen_Multivan_T4_TDI_7DC_UY2   \n",
       "371538  20-03-2016 19:41                        VW_Golf_Kombi_1_9l_TDI   \n",
       "371539  07-03-2016 19:39  BMW_M135i_vollausgestattet_NP_52.720____Euro   \n",
       "\n",
       "        seller offerType    price   abtest vehicleType  yearOfRegistration  \\\n",
       "0       privat   Angebot    480.0     test         NaN              1993.0   \n",
       "1       privat   Angebot  18300.0     test       coupe              2011.0   \n",
       "2       privat   Angebot   9800.0     test         suv              2004.0   \n",
       "3       privat   Angebot   1500.0     test  kleinwagen              2001.0   \n",
       "4       privat   Angebot   3600.0     test  kleinwagen              2008.0   \n",
       "...        ...       ...      ...      ...         ...                 ...   \n",
       "371535  privat   Angebot   2200.0     test         NaN              2005.0   \n",
       "371536  privat   Angebot   1199.0     test      cabrio              2000.0   \n",
       "371537  privat   Angebot   9200.0     test         bus              1996.0   \n",
       "371538  privat   Angebot   3400.0     test       kombi              2002.0   \n",
       "371539  privat   Angebot  28990.0  control   limousine              2013.0   \n",
       "\n",
       "          gearbox  powerPS        model kilometer  monthOfRegistration  \\\n",
       "0         manuell      0.0         golf    150000                  0.0   \n",
       "1         manuell    190.0          NaN    125000                  5.0   \n",
       "2       automatik    163.0        grand    125000                  8.0   \n",
       "3         manuell     75.0         golf    150000                  6.0   \n",
       "4         manuell     69.0        fabia     90000                  7.0   \n",
       "...           ...      ...          ...       ...                  ...   \n",
       "371535        NaN      0.0          NaN     20000                  1.0   \n",
       "371536  automatik    101.0       fortwo    125000                  3.0   \n",
       "371537    manuell    102.0  transporter    150000                  3.0   \n",
       "371538    manuell    100.0         golf    150000                  6.0   \n",
       "371539    manuell    320.0      m_reihe     50000                  8.0   \n",
       "\n",
       "       fuelType           brand notRepairedDamage       dateCreated  \\\n",
       "0        benzin      volkswagen               NaN  24-03-2016 00:00   \n",
       "1        diesel            audi                ja  24-03-2016 00:00   \n",
       "2        diesel            jeep               NaN  14-03-2016 00:00   \n",
       "3        benzin      volkswagen              nein  17-03-2016 00:00   \n",
       "4        diesel           skoda              nein  31-03-2016 00:00   \n",
       "...         ...             ...               ...               ...   \n",
       "371535      NaN  sonstige_autos               NaN  14-03-2016 00:00   \n",
       "371536   benzin           smart              nein  05-03-2016 00:00   \n",
       "371537   diesel      volkswagen              nein  19-03-2016 00:00   \n",
       "371538   diesel      volkswagen               NaN  20-03-2016 00:00   \n",
       "371539   benzin             bmw              nein  07-03-2016 00:00   \n",
       "\n",
       "        nrOfPictures  postalCode          lastSeen  \n",
       "0                0.0     70435.0  07-04-2016 03:16  \n",
       "1                0.0     66954.0  07-04-2016 01:46  \n",
       "2                0.0     90480.0  05-04-2016 12:47  \n",
       "3                0.0     91074.0  17-03-2016 17:40  \n",
       "4                0.0     60437.0  06-04-2016 10:17  \n",
       "...              ...         ...               ...  \n",
       "371535           0.0     39576.0  06-04-2016 00:46  \n",
       "371536           0.0     26135.0  11-03-2016 18:17  \n",
       "371537           0.0     87439.0  07-04-2016 07:15  \n",
       "371538           0.0     40764.0  24-03-2016 12:45  \n",
       "371539           0.0     73326.0  22-03-2016 03:17  \n",
       "\n",
       "[371540 rows x 20 columns]"
      ]
     },
     "execution_count": 2,
     "metadata": {},
     "output_type": "execute_result"
    }
   ],
   "source": [
    "pd.read_csv('autos.csv')"
   ]
  },
  {
   "cell_type": "code",
   "execution_count": 3,
   "id": "d098ace0",
   "metadata": {},
   "outputs": [],
   "source": [
    "df = pd.read_csv('autos.csv',low_memory = False)"
   ]
  },
  {
   "cell_type": "markdown",
   "id": "9559e606",
   "metadata": {},
   "source": [
    "The warning can be overcome by either mentioning low_memory = False or by specifying the dtype of the 11 columns"
   ]
  },
  {
   "cell_type": "markdown",
   "id": "a04dd19d",
   "metadata": {},
   "source": [
    "There are totally 20 columns in the file"
   ]
  },
  {
   "cell_type": "code",
   "execution_count": 4,
   "id": "2e5ecb62",
   "metadata": {},
   "outputs": [
    {
     "name": "stdout",
     "output_type": "stream",
     "text": [
      "<class 'pandas.core.frame.DataFrame'>\n",
      "RangeIndex: 371540 entries, 0 to 371539\n",
      "Data columns (total 20 columns):\n",
      " #   Column               Non-Null Count   Dtype  \n",
      "---  ------               --------------   -----  \n",
      " 0   dateCrawled          371539 non-null  object \n",
      " 1   name                 371539 non-null  object \n",
      " 2   seller               371538 non-null  object \n",
      " 3   offerType            371538 non-null  object \n",
      " 4   price                371538 non-null  float64\n",
      " 5   abtest               371538 non-null  object \n",
      " 6   vehicleType          333669 non-null  object \n",
      " 7   yearOfRegistration   371537 non-null  float64\n",
      " 8   gearbox              351329 non-null  object \n",
      " 9   powerPS              371538 non-null  float64\n",
      " 10  model                351054 non-null  object \n",
      " 11  kilometer            371538 non-null  object \n",
      " 12  monthOfRegistration  371537 non-null  float64\n",
      " 13  fuelType             338151 non-null  object \n",
      " 14  brand                371537 non-null  object \n",
      " 15  notRepairedDamage    299477 non-null  object \n",
      " 16  dateCreated          371537 non-null  object \n",
      " 17  nrOfPictures         371537 non-null  float64\n",
      " 18  postalCode           371537 non-null  float64\n",
      " 19  lastSeen             371537 non-null  object \n",
      "dtypes: float64(6), object(14)\n",
      "memory usage: 56.7+ MB\n"
     ]
    }
   ],
   "source": [
    "df.info()"
   ]
  },
  {
   "cell_type": "code",
   "execution_count": 5,
   "id": "2327e09d",
   "metadata": {},
   "outputs": [],
   "source": [
    "dfSample=df.head()"
   ]
  },
  {
   "cell_type": "code",
   "execution_count": 6,
   "id": "07b0b989",
   "metadata": {},
   "outputs": [
    {
     "data": {
      "text/html": [
       "<div>\n",
       "<style scoped>\n",
       "    .dataframe tbody tr th:only-of-type {\n",
       "        vertical-align: middle;\n",
       "    }\n",
       "\n",
       "    .dataframe tbody tr th {\n",
       "        vertical-align: top;\n",
       "    }\n",
       "\n",
       "    .dataframe thead th {\n",
       "        text-align: right;\n",
       "    }\n",
       "</style>\n",
       "<table border=\"1\" class=\"dataframe\">\n",
       "  <thead>\n",
       "    <tr style=\"text-align: right;\">\n",
       "      <th></th>\n",
       "      <th>dateCrawled</th>\n",
       "      <th>name</th>\n",
       "      <th>seller</th>\n",
       "      <th>offerType</th>\n",
       "      <th>price</th>\n",
       "      <th>abtest</th>\n",
       "      <th>vehicleType</th>\n",
       "      <th>yearOfRegistration</th>\n",
       "      <th>gearbox</th>\n",
       "      <th>powerPS</th>\n",
       "      <th>model</th>\n",
       "      <th>kilometer</th>\n",
       "      <th>monthOfRegistration</th>\n",
       "      <th>fuelType</th>\n",
       "      <th>brand</th>\n",
       "      <th>notRepairedDamage</th>\n",
       "      <th>dateCreated</th>\n",
       "      <th>nrOfPictures</th>\n",
       "      <th>postalCode</th>\n",
       "      <th>lastSeen</th>\n",
       "    </tr>\n",
       "  </thead>\n",
       "  <tbody>\n",
       "    <tr>\n",
       "      <th>0</th>\n",
       "      <td>24-03-2016 11:52</td>\n",
       "      <td>Golf_3_1.6</td>\n",
       "      <td>privat</td>\n",
       "      <td>Angebot</td>\n",
       "      <td>480.0</td>\n",
       "      <td>test</td>\n",
       "      <td>NaN</td>\n",
       "      <td>1993.0</td>\n",
       "      <td>manuell</td>\n",
       "      <td>0.0</td>\n",
       "      <td>golf</td>\n",
       "      <td>150000</td>\n",
       "      <td>0.0</td>\n",
       "      <td>benzin</td>\n",
       "      <td>volkswagen</td>\n",
       "      <td>NaN</td>\n",
       "      <td>24-03-2016 00:00</td>\n",
       "      <td>0.0</td>\n",
       "      <td>70435.0</td>\n",
       "      <td>07-04-2016 03:16</td>\n",
       "    </tr>\n",
       "    <tr>\n",
       "      <th>1</th>\n",
       "      <td>24-03-2016 10:58</td>\n",
       "      <td>A5_Sportback_2.7_Tdi</td>\n",
       "      <td>privat</td>\n",
       "      <td>Angebot</td>\n",
       "      <td>18300.0</td>\n",
       "      <td>test</td>\n",
       "      <td>coupe</td>\n",
       "      <td>2011.0</td>\n",
       "      <td>manuell</td>\n",
       "      <td>190.0</td>\n",
       "      <td>NaN</td>\n",
       "      <td>125000</td>\n",
       "      <td>5.0</td>\n",
       "      <td>diesel</td>\n",
       "      <td>audi</td>\n",
       "      <td>ja</td>\n",
       "      <td>24-03-2016 00:00</td>\n",
       "      <td>0.0</td>\n",
       "      <td>66954.0</td>\n",
       "      <td>07-04-2016 01:46</td>\n",
       "    </tr>\n",
       "    <tr>\n",
       "      <th>2</th>\n",
       "      <td>14-03-2016 12:52</td>\n",
       "      <td>Jeep_Grand_Cherokee_\"Overland\"</td>\n",
       "      <td>privat</td>\n",
       "      <td>Angebot</td>\n",
       "      <td>9800.0</td>\n",
       "      <td>test</td>\n",
       "      <td>suv</td>\n",
       "      <td>2004.0</td>\n",
       "      <td>automatik</td>\n",
       "      <td>163.0</td>\n",
       "      <td>grand</td>\n",
       "      <td>125000</td>\n",
       "      <td>8.0</td>\n",
       "      <td>diesel</td>\n",
       "      <td>jeep</td>\n",
       "      <td>NaN</td>\n",
       "      <td>14-03-2016 00:00</td>\n",
       "      <td>0.0</td>\n",
       "      <td>90480.0</td>\n",
       "      <td>05-04-2016 12:47</td>\n",
       "    </tr>\n",
       "    <tr>\n",
       "      <th>3</th>\n",
       "      <td>17-03-2016 16:54</td>\n",
       "      <td>GOLF_4_1_4__3TÜRER</td>\n",
       "      <td>privat</td>\n",
       "      <td>Angebot</td>\n",
       "      <td>1500.0</td>\n",
       "      <td>test</td>\n",
       "      <td>kleinwagen</td>\n",
       "      <td>2001.0</td>\n",
       "      <td>manuell</td>\n",
       "      <td>75.0</td>\n",
       "      <td>golf</td>\n",
       "      <td>150000</td>\n",
       "      <td>6.0</td>\n",
       "      <td>benzin</td>\n",
       "      <td>volkswagen</td>\n",
       "      <td>nein</td>\n",
       "      <td>17-03-2016 00:00</td>\n",
       "      <td>0.0</td>\n",
       "      <td>91074.0</td>\n",
       "      <td>17-03-2016 17:40</td>\n",
       "    </tr>\n",
       "    <tr>\n",
       "      <th>4</th>\n",
       "      <td>31-03-2016 17:25</td>\n",
       "      <td>Skoda_Fabia_1.4_TDI_PD_Classic</td>\n",
       "      <td>privat</td>\n",
       "      <td>Angebot</td>\n",
       "      <td>3600.0</td>\n",
       "      <td>test</td>\n",
       "      <td>kleinwagen</td>\n",
       "      <td>2008.0</td>\n",
       "      <td>manuell</td>\n",
       "      <td>69.0</td>\n",
       "      <td>fabia</td>\n",
       "      <td>90000</td>\n",
       "      <td>7.0</td>\n",
       "      <td>diesel</td>\n",
       "      <td>skoda</td>\n",
       "      <td>nein</td>\n",
       "      <td>31-03-2016 00:00</td>\n",
       "      <td>0.0</td>\n",
       "      <td>60437.0</td>\n",
       "      <td>06-04-2016 10:17</td>\n",
       "    </tr>\n",
       "  </tbody>\n",
       "</table>\n",
       "</div>"
      ],
      "text/plain": [
       "        dateCrawled                            name  seller offerType  \\\n",
       "0  24-03-2016 11:52                      Golf_3_1.6  privat   Angebot   \n",
       "1  24-03-2016 10:58            A5_Sportback_2.7_Tdi  privat   Angebot   \n",
       "2  14-03-2016 12:52  Jeep_Grand_Cherokee_\"Overland\"  privat   Angebot   \n",
       "3  17-03-2016 16:54              GOLF_4_1_4__3TÜRER  privat   Angebot   \n",
       "4  31-03-2016 17:25  Skoda_Fabia_1.4_TDI_PD_Classic  privat   Angebot   \n",
       "\n",
       "     price abtest vehicleType  yearOfRegistration    gearbox  powerPS  model  \\\n",
       "0    480.0   test         NaN              1993.0    manuell      0.0   golf   \n",
       "1  18300.0   test       coupe              2011.0    manuell    190.0    NaN   \n",
       "2   9800.0   test         suv              2004.0  automatik    163.0  grand   \n",
       "3   1500.0   test  kleinwagen              2001.0    manuell     75.0   golf   \n",
       "4   3600.0   test  kleinwagen              2008.0    manuell     69.0  fabia   \n",
       "\n",
       "  kilometer  monthOfRegistration fuelType       brand notRepairedDamage  \\\n",
       "0    150000                  0.0   benzin  volkswagen               NaN   \n",
       "1    125000                  5.0   diesel        audi                ja   \n",
       "2    125000                  8.0   diesel        jeep               NaN   \n",
       "3    150000                  6.0   benzin  volkswagen              nein   \n",
       "4     90000                  7.0   diesel       skoda              nein   \n",
       "\n",
       "        dateCreated  nrOfPictures  postalCode          lastSeen  \n",
       "0  24-03-2016 00:00           0.0     70435.0  07-04-2016 03:16  \n",
       "1  24-03-2016 00:00           0.0     66954.0  07-04-2016 01:46  \n",
       "2  14-03-2016 00:00           0.0     90480.0  05-04-2016 12:47  \n",
       "3  17-03-2016 00:00           0.0     91074.0  17-03-2016 17:40  \n",
       "4  31-03-2016 00:00           0.0     60437.0  06-04-2016 10:17  "
      ]
     },
     "execution_count": 6,
     "metadata": {},
     "output_type": "execute_result"
    }
   ],
   "source": [
    "dfSample"
   ]
  },
  {
   "cell_type": "markdown",
   "id": "f70f0f0d",
   "metadata": {},
   "source": [
    "### 1.Find Average price of autos ( using price column of dataset)"
   ]
  },
  {
   "cell_type": "code",
   "execution_count": 7,
   "id": "fb30f7ac",
   "metadata": {},
   "outputs": [
    {
     "data": {
      "text/plain": [
       "17295.439494748854"
      ]
     },
     "execution_count": 7,
     "metadata": {},
     "output_type": "execute_result"
    }
   ],
   "source": [
    "df['price'].mean()"
   ]
  },
  {
   "cell_type": "markdown",
   "id": "932cc5e5",
   "metadata": {},
   "source": [
    "### 2. Print the list of different possible types of VehicleType found in dataset"
   ]
  },
  {
   "cell_type": "markdown",
   "id": "5bdf7570",
   "metadata": {},
   "source": [
    "Types of VehicleType can be found by forming a set of the column 'vehicleType'. "
   ]
  },
  {
   "cell_type": "code",
   "execution_count": 8,
   "id": "415db40d",
   "metadata": {},
   "outputs": [],
   "source": [
    "vehicleTypeSet =set(df['vehicleType'])"
   ]
  },
  {
   "cell_type": "code",
   "execution_count": 9,
   "id": "a440f1d6",
   "metadata": {},
   "outputs": [
    {
     "name": "stdout",
     "output_type": "stream",
     "text": [
      "{'suv', 'coupe', 'andere', 'limousine', nan, 'kleinwagen', 'cabrio', 'volkswagen', 'kombi', 'bus'}\n"
     ]
    }
   ],
   "source": [
    "print(vehicleTypeSet)"
   ]
  },
  {
   "cell_type": "markdown",
   "id": "1316e794",
   "metadata": {},
   "source": [
    "Since we have nan also included, we can drop it using dropna()"
   ]
  },
  {
   "cell_type": "code",
   "execution_count": 10,
   "id": "9887626e",
   "metadata": {},
   "outputs": [
    {
     "name": "stdout",
     "output_type": "stream",
     "text": [
      "{'suv', 'coupe', 'andere', 'limousine', 'kleinwagen', 'cabrio', 'volkswagen', 'kombi', 'bus'}\n"
     ]
    }
   ],
   "source": [
    "vehicleTypeSet = set(df['vehicleType'].dropna())\n",
    "print(vehicleTypeSet)"
   ]
  },
  {
   "cell_type": "markdown",
   "id": "df29442e",
   "metadata": {},
   "source": [
    "### 3.Calculate and print lowest yearOfRegistration  and highest yearOfRegistration "
   ]
  },
  {
   "cell_type": "markdown",
   "id": "cf02e696",
   "metadata": {},
   "source": [
    "Calculating for the sample"
   ]
  },
  {
   "cell_type": "code",
   "execution_count": 11,
   "id": "2dd92121",
   "metadata": {},
   "outputs": [
    {
     "data": {
      "text/plain": [
       "2011.0"
      ]
     },
     "execution_count": 11,
     "metadata": {},
     "output_type": "execute_result"
    }
   ],
   "source": [
    "dfSample['yearOfRegistration'].max()"
   ]
  },
  {
   "cell_type": "code",
   "execution_count": 12,
   "id": "522914b7",
   "metadata": {},
   "outputs": [
    {
     "data": {
      "text/plain": [
       "1993.0"
      ]
     },
     "execution_count": 12,
     "metadata": {},
     "output_type": "execute_result"
    }
   ],
   "source": [
    "dfSample['yearOfRegistration'].min()"
   ]
  },
  {
   "cell_type": "markdown",
   "id": "b122f9a3",
   "metadata": {},
   "source": [
    "Calculating for the whole file."
   ]
  },
  {
   "cell_type": "code",
   "execution_count": 13,
   "id": "901855ce",
   "metadata": {},
   "outputs": [
    {
     "data": {
      "text/plain": [
       "1000.0"
      ]
     },
     "execution_count": 13,
     "metadata": {},
     "output_type": "execute_result"
    }
   ],
   "source": [
    "df['yearOfRegistration'].min()"
   ]
  },
  {
   "cell_type": "code",
   "execution_count": 14,
   "id": "fb8a0633",
   "metadata": {},
   "outputs": [
    {
     "data": {
      "text/plain": [
       "9999.0"
      ]
     },
     "execution_count": 14,
     "metadata": {},
     "output_type": "execute_result"
    }
   ],
   "source": [
    "df['yearOfRegistration'].max()"
   ]
  },
  {
   "cell_type": "markdown",
   "id": "baded9e5",
   "metadata": {},
   "source": [
    "Logically year of registration for a vehicle cannot be greater than 2023. We can take the lower limit as 1800."
   ]
  },
  {
   "cell_type": "code",
   "execution_count": 15,
   "id": "57b3ab86",
   "metadata": {},
   "outputs": [],
   "source": [
    "dfYOR =df[(df.yearOfRegistration >= 1800.0) & (df.yearOfRegistration<=2023.0)]"
   ]
  },
  {
   "cell_type": "code",
   "execution_count": 16,
   "id": "d32a8145",
   "metadata": {},
   "outputs": [
    {
     "data": {
      "text/plain": [
       "1800.0"
      ]
     },
     "execution_count": 16,
     "metadata": {},
     "output_type": "execute_result"
    }
   ],
   "source": [
    "dfYOR['yearOfRegistration'].min()"
   ]
  },
  {
   "cell_type": "code",
   "execution_count": 17,
   "id": "fc73b675",
   "metadata": {},
   "outputs": [
    {
     "data": {
      "text/plain": [
       "2019.0"
      ]
     },
     "execution_count": 17,
     "metadata": {},
     "output_type": "execute_result"
    }
   ],
   "source": [
    "dfYOR['yearOfRegistration'].max()"
   ]
  },
  {
   "cell_type": "markdown",
   "id": "4da69210",
   "metadata": {},
   "source": [
    "### 4.Find and print standard deviation of column kilometer"
   ]
  },
  {
   "cell_type": "markdown",
   "id": "cd58e62b",
   "metadata": {},
   "source": [
    "To calculate the standard deviation, import the statistics package and use stdev function."
   ]
  },
  {
   "cell_type": "code",
   "execution_count": 18,
   "id": "f3e562aa",
   "metadata": {},
   "outputs": [],
   "source": [
    "import statistics as st"
   ]
  },
  {
   "cell_type": "code",
   "execution_count": 19,
   "id": "ad63bf96",
   "metadata": {},
   "outputs": [],
   "source": [
    "kilometerDF = df['kilometer']"
   ]
  },
  {
   "cell_type": "markdown",
   "id": "217bb135",
   "metadata": {},
   "source": [
    "Dropping all null values. The inplace parameter ensures that the changes are reflected in kilometerDF."
   ]
  },
  {
   "cell_type": "code",
   "execution_count": 20,
   "id": "0264943d",
   "metadata": {},
   "outputs": [],
   "source": [
    "kilometerDF.dropna(inplace = True)"
   ]
  },
  {
   "cell_type": "code",
   "execution_count": 21,
   "id": "39c82a0e",
   "metadata": {},
   "outputs": [
    {
     "data": {
      "text/plain": [
       "0         150000\n",
       "1         125000\n",
       "2         125000\n",
       "3         150000\n",
       "4          90000\n",
       "           ...  \n",
       "371535     20000\n",
       "371536    125000\n",
       "371537    150000\n",
       "371538    150000\n",
       "371539     50000\n",
       "Name: kilometer, Length: 371538, dtype: object"
      ]
     },
     "execution_count": 21,
     "metadata": {},
     "output_type": "execute_result"
    }
   ],
   "source": [
    "kilometerDF"
   ]
  },
  {
   "cell_type": "code",
   "execution_count": 22,
   "id": "3e0a2d32",
   "metadata": {},
   "outputs": [],
   "source": [
    "kilometerList = list(kilometerDF)"
   ]
  },
  {
   "cell_type": "code",
   "execution_count": 23,
   "id": "41ed1eb6",
   "metadata": {},
   "outputs": [
    {
     "data": {
      "text/plain": [
       "str"
      ]
     },
     "execution_count": 23,
     "metadata": {},
     "output_type": "execute_result"
    }
   ],
   "source": [
    "type(kilometerList[0])"
   ]
  },
  {
   "cell_type": "markdown",
   "id": "54e6ae5d",
   "metadata": {},
   "source": [
    "Changing the type of the list as standard deviation can be performed only on numerical values."
   ]
  },
  {
   "cell_type": "code",
   "execution_count": 24,
   "id": "460d87d5",
   "metadata": {},
   "outputs": [],
   "source": [
    "i=0\n",
    "l=len(kilometerList)\n",
    "while(i<l):\n",
    "        try:\n",
    "            kilometerList[i] = int(kilometerList[i])\n",
    "            i= i+1\n",
    "        except:\n",
    "            kilometerList.pop(i)\n",
    "            l=l-1"
   ]
  },
  {
   "cell_type": "code",
   "execution_count": 25,
   "id": "447dbfb9",
   "metadata": {},
   "outputs": [
    {
     "data": {
      "text/plain": [
       "150000"
      ]
     },
     "execution_count": 25,
     "metadata": {},
     "output_type": "execute_result"
    }
   ],
   "source": [
    "kilometerList[0]"
   ]
  },
  {
   "cell_type": "markdown",
   "id": "b5ed9e9e",
   "metadata": {},
   "source": [
    "Calculating standard deviation"
   ]
  },
  {
   "cell_type": "code",
   "execution_count": 26,
   "id": "a7c1dd5b",
   "metadata": {},
   "outputs": [
    {
     "name": "stdout",
     "output_type": "stream",
     "text": [
      "40112.919387041096\n"
     ]
    }
   ],
   "source": [
    "print(st.stdev(kilometerList))"
   ]
  },
  {
   "cell_type": "markdown",
   "id": "e451e708",
   "metadata": {},
   "source": [
    "### 5.Draw a bar graph to represent count of different type of column brand"
   ]
  },
  {
   "cell_type": "code",
   "execution_count": 27,
   "id": "3196ab5f",
   "metadata": {},
   "outputs": [],
   "source": [
    "dfBrand = df['brand']"
   ]
  },
  {
   "cell_type": "code",
   "execution_count": 28,
   "id": "450a9388",
   "metadata": {},
   "outputs": [
    {
     "data": {
      "text/plain": [
       "0             volkswagen\n",
       "1                   audi\n",
       "2                   jeep\n",
       "3             volkswagen\n",
       "4                  skoda\n",
       "               ...      \n",
       "371535    sonstige_autos\n",
       "371536             smart\n",
       "371537        volkswagen\n",
       "371538        volkswagen\n",
       "371539               bmw\n",
       "Name: brand, Length: 371540, dtype: object"
      ]
     },
     "execution_count": 28,
     "metadata": {},
     "output_type": "execute_result"
    }
   ],
   "source": [
    "dfBrand"
   ]
  },
  {
   "cell_type": "markdown",
   "id": "8cceec87",
   "metadata": {},
   "source": [
    "Creating a dictioanry to store the brand names and it's count. The count can be calculated by count() function."
   ]
  },
  {
   "cell_type": "code",
   "execution_count": 29,
   "id": "9bb69034",
   "metadata": {},
   "outputs": [],
   "source": [
    "dfBrand.dropna(inplace = True)\n",
    "brandList = list(dfBrand)\n",
    "data = dict()"
   ]
  },
  {
   "cell_type": "code",
   "execution_count": 30,
   "id": "1dc147e0",
   "metadata": {},
   "outputs": [],
   "source": [
    "brandSet = set(dfBrand)\n",
    "for i in brandSet:\n",
    " data[i] = brandList.count(i)"
   ]
  },
  {
   "cell_type": "code",
   "execution_count": 31,
   "id": "6f9ab186",
   "metadata": {},
   "outputs": [
    {
     "data": {
      "text/plain": [
       "{'jeep': 807,\n",
       " 'smart': 5249,\n",
       " 'nissan': 5037,\n",
       " 'peugeot': 11027,\n",
       " 'suzuki': 2328,\n",
       " 'porsche': 2215,\n",
       " 'honda': 2836,\n",
       " 'ford': 25574,\n",
       " 'lada': 225,\n",
       " 'chevrolet': 1845,\n",
       " 'jaguar': 621,\n",
       " 'toyota': 4695,\n",
       " 'chrysler': 1452,\n",
       " 'daewoo': 542,\n",
       " 'mazda': 5695,\n",
       " 'rover': 490,\n",
       " 'citroen': 5182,\n",
       " 'volvo': 3327,\n",
       " 'mercedes_benz': 35313,\n",
       " 'lancia': 484,\n",
       " 'mitsubishi': 3061,\n",
       " 'renault': 17971,\n",
       " 'daihatsu': 806,\n",
       " 'seat': 7022,\n",
       " 'subaru': 779,\n",
       " 'kia': 2555,\n",
       " 'saab': 530,\n",
       " 'skoda': 5641,\n",
       " 'alfa_romeo': 2345,\n",
       " 'audi': 32873,\n",
       " 'sonstige_autos': 3982,\n",
       " 'trabant': 591,\n",
       " 'hyundai': 3646,\n",
       " 'fiat': 9676,\n",
       " 'mini': 3394,\n",
       " 'opel': 40136,\n",
       " 'bmw': 40274,\n",
       " 'land_rover': 771,\n",
       " 'dacia': 900,\n",
       " 'volkswagen': 79640}"
      ]
     },
     "execution_count": 31,
     "metadata": {},
     "output_type": "execute_result"
    }
   ],
   "source": [
    "data"
   ]
  },
  {
   "cell_type": "markdown",
   "id": "95ceb7ca",
   "metadata": {},
   "source": [
    "To plot a graph matplotlib is used. Here 'auto' represents the automobile brands and is shown on the x-axis. 'values' represnt the count of these brands and is shown on the y-axis."
   ]
  },
  {
   "cell_type": "code",
   "execution_count": 32,
   "id": "d072979c",
   "metadata": {},
   "outputs": [
    {
     "data": {
      "image/png": "[encoded data removed]",
      "text/plain": [
       "<Figure size 5000x2000 with 1 Axes>"
      ]
     },
     "metadata": {},
     "output_type": "display_data"
    }
   ],
   "source": [
    "import matplotlib.pyplot as plt\n",
    "auto = list(data.keys())\n",
    "values = list(data.values())\n",
    "\n",
    "fig = plt.figure(figsize = (50, 20))\n",
    "\n",
    "plt.bar(auto, values,width = 0.5)\n",
    "\n",
    "plt.xlabel(\"Brand of automobile\")\n",
    "plt.ylabel(\"Count\")\n",
    "plt.show()\n"
   ]
  },
  {
   "cell_type": "markdown",
   "id": "7d6a2883",
   "metadata": {},
   "source": [
    "### 6.Find out which VehicleType  is sold minimum and maximum"
   ]
  },
  {
   "cell_type": "code",
   "execution_count": 33,
   "id": "d04cf968",
   "metadata": {},
   "outputs": [],
   "source": [
    "dfVehicleType = df['vehicleType']"
   ]
  },
  {
   "cell_type": "code",
   "execution_count": 34,
   "id": "74e99d92",
   "metadata": {},
   "outputs": [
    {
     "data": {
      "text/plain": [
       "str"
      ]
     },
     "execution_count": 34,
     "metadata": {},
     "output_type": "execute_result"
    }
   ],
   "source": [
    "dfVehicleType.dropna(inplace = True)\n",
    "VehicleTypeList = list(dfVehicleType)\n",
    "type(VehicleTypeList[0])"
   ]
  },
  {
   "cell_type": "code",
   "execution_count": 35,
   "id": "a734635f",
   "metadata": {},
   "outputs": [],
   "source": [
    "vehicleTypeSet = set(dfVehicleType)\n",
    "vehicleData = list()\n",
    "vehicle = dict()"
   ]
  },
  {
   "cell_type": "code",
   "execution_count": 36,
   "id": "2cebd5db",
   "metadata": {},
   "outputs": [],
   "source": [
    "for i in vehicleTypeSet:\n",
    " vehicle[i] = VehicleTypeList.count(i)"
   ]
  },
  {
   "cell_type": "code",
   "execution_count": 37,
   "id": "0e4afe96",
   "metadata": {},
   "outputs": [
    {
     "data": {
      "text/plain": [
       "{'suv': 14708,\n",
       " 'coupe': 19016,\n",
       " 'andere': 3357,\n",
       " 'limousine': 95896,\n",
       " 'kleinwagen': 80026,\n",
       " 'cabrio': 22899,\n",
       " 'volkswagen': 1,\n",
       " 'kombi': 67564,\n",
       " 'bus': 30202}"
      ]
     },
     "execution_count": 37,
     "metadata": {},
     "output_type": "execute_result"
    }
   ],
   "source": [
    "vehicle"
   ]
  },
  {
   "cell_type": "markdown",
   "id": "8b1ceec1",
   "metadata": {},
   "source": [
    "To find the maximum and minimum, we can use a simple for loop that loops through the dictionary."
   ]
  },
  {
   "cell_type": "code",
   "execution_count": 38,
   "id": "8ca5d357",
   "metadata": {},
   "outputs": [],
   "source": [
    "maxi = 0\n",
    "mini = 100000\n",
    "for i,j in vehicle.items() :\n",
    "    if(j>maxi):\n",
    "        maxi = j\n",
    "        vTypeMax = i;\n",
    "    if(j<mini):\n",
    "        mini = j\n",
    "        vTypeMin = i;"
   ]
  },
  {
   "cell_type": "code",
   "execution_count": 39,
   "id": "cf0f6849",
   "metadata": {},
   "outputs": [
    {
     "data": {
      "text/plain": [
       "95896"
      ]
     },
     "execution_count": 39,
     "metadata": {},
     "output_type": "execute_result"
    }
   ],
   "source": [
    "maxi"
   ]
  },
  {
   "cell_type": "code",
   "execution_count": 40,
   "id": "1b44806f",
   "metadata": {},
   "outputs": [
    {
     "data": {
      "text/plain": [
       "1"
      ]
     },
     "execution_count": 40,
     "metadata": {},
     "output_type": "execute_result"
    }
   ],
   "source": [
    "mini"
   ]
  },
  {
   "cell_type": "code",
   "execution_count": 41,
   "id": "601776d2",
   "metadata": {},
   "outputs": [
    {
     "data": {
      "text/plain": [
       "'limousine'"
      ]
     },
     "execution_count": 41,
     "metadata": {},
     "output_type": "execute_result"
    }
   ],
   "source": [
    "vTypeMax"
   ]
  },
  {
   "cell_type": "code",
   "execution_count": 42,
   "id": "ee19aeda",
   "metadata": {},
   "outputs": [
    {
     "data": {
      "text/plain": [
       "'volkswagen'"
      ]
     },
     "execution_count": 42,
     "metadata": {},
     "output_type": "execute_result"
    }
   ],
   "source": [
    "vTypeMin"
   ]
  },
  {
   "cell_type": "code",
   "execution_count": 43,
   "id": "7bfcb929",
   "metadata": {},
   "outputs": [
    {
     "name": "stdout",
     "output_type": "stream",
     "text": [
      "limousine 95896\n",
      "volkswagen 1\n"
     ]
    }
   ],
   "source": [
    "print(vTypeMax, maxi)\n",
    "print(vTypeMin, mini)"
   ]
  },
  {
   "cell_type": "markdown",
   "id": "bbf10451",
   "metadata": {},
   "source": [
    "### 7.Create a pie chart to represent different types of  gearbox count "
   ]
  },
  {
   "cell_type": "code",
   "execution_count": 44,
   "id": "ecab2d4f",
   "metadata": {},
   "outputs": [],
   "source": [
    "dfGearBox = df['gearbox']"
   ]
  },
  {
   "cell_type": "code",
   "execution_count": 45,
   "id": "f36d22c9",
   "metadata": {},
   "outputs": [],
   "source": [
    "dfGearBox.dropna(inplace = True)\n",
    "boxList = list(dfGearBox)\n",
    "box= dict()"
   ]
  },
  {
   "cell_type": "code",
   "execution_count": 46,
   "id": "6457c52c",
   "metadata": {},
   "outputs": [],
   "source": [
    "boxSet = set(dfGearBox)\n",
    "for i in boxSet:\n",
    " box[i] = boxList.count(i)"
   ]
  },
  {
   "cell_type": "code",
   "execution_count": 47,
   "id": "4d319b07",
   "metadata": {},
   "outputs": [
    {
     "data": {
      "text/plain": [
       "{'manuell': 274219, 'automatik': 77109, '25-03-2016 00:00': 1}"
      ]
     },
     "execution_count": 47,
     "metadata": {},
     "output_type": "execute_result"
    }
   ],
   "source": [
    "box"
   ]
  },
  {
   "cell_type": "code",
   "execution_count": 48,
   "id": "e52eb249",
   "metadata": {},
   "outputs": [],
   "source": [
    "label = list(box.keys())"
   ]
  },
  {
   "cell_type": "code",
   "execution_count": 49,
   "id": "5888041e",
   "metadata": {},
   "outputs": [
    {
     "data": {
      "text/plain": [
       "['manuell', 'automatik', '25-03-2016 00:00']"
      ]
     },
     "execution_count": 49,
     "metadata": {},
     "output_type": "execute_result"
    }
   ],
   "source": [
    "label"
   ]
  },
  {
   "cell_type": "code",
   "execution_count": 50,
   "id": "4c6b0140",
   "metadata": {},
   "outputs": [],
   "source": [
    "val = list(box.values())"
   ]
  },
  {
   "cell_type": "code",
   "execution_count": 51,
   "id": "3b7360f3",
   "metadata": {},
   "outputs": [
    {
     "data": {
      "image/png": "[encoded data removed]",
      "text/plain": [
       "<Figure size 640x480 with 1 Axes>"
      ]
     },
     "metadata": {},
     "output_type": "display_data"
    }
   ],
   "source": [
    "plt.pie(val,labels = label)\n",
    "plt.show() "
   ]
  },
  {
   "cell_type": "markdown",
   "id": "5b46f767",
   "metadata": {},
   "source": [
    "The wrong data '25-03-2016 00:00' can be removed."
   ]
  },
  {
   "cell_type": "code",
   "execution_count": 52,
   "id": "61a1da40",
   "metadata": {},
   "outputs": [
    {
     "data": {
      "text/plain": [
       "1"
      ]
     },
     "execution_count": 52,
     "metadata": {},
     "output_type": "execute_result"
    }
   ],
   "source": [
    "box.pop('25-03-2016 00:00')"
   ]
  },
  {
   "cell_type": "code",
   "execution_count": 53,
   "id": "662f8b3e",
   "metadata": {},
   "outputs": [
    {
     "data": {
      "text/plain": [
       "{'manuell': 274219, 'automatik': 77109}"
      ]
     },
     "execution_count": 53,
     "metadata": {},
     "output_type": "execute_result"
    }
   ],
   "source": [
    "box"
   ]
  },
  {
   "cell_type": "code",
   "execution_count": 54,
   "id": "ad0d1df8",
   "metadata": {},
   "outputs": [
    {
     "data": {
      "image/png": "[encoded data removed]",
      "text/plain": [
       "<Figure size 640x480 with 1 Axes>"
      ]
     },
     "metadata": {},
     "output_type": "display_data"
    }
   ],
   "source": [
    "label = list(box.keys())\n",
    "val = list(box.values())\n",
    "plt.pie(val,labels = label,colors = ['orange','skyblue'])\n",
    "plt.show() "
   ]
  }
 ],
 "metadata": {
  "kernelspec": {
   "display_name": "Python 3 (ipykernel)",
   "language": "python",
   "name": "python3"
  },
  "language_info": {
   "codemirror_mode": {
    "name": "ipython",
    "version": 3
   },
   "file_extension": ".py",
   "mimetype": "text/x-python",
   "name": "python",
   "nbconvert_exporter": "python",
   "pygments_lexer": "ipython3",
   "version": "3.10.9"
  }
 },
 "nbformat": 4,
 "nbformat_minor": 5
}
